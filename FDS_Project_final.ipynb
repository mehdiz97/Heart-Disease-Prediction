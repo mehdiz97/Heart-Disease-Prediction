{
 "cells": [
  {
   "cell_type": "markdown",
   "metadata": {
    "id": "EAj-WY1HfuEo"
   },
   "source": [
    "# Fundamental of Data Science\n",
    "\n",
    "# Heart Disease Prediction\n",
    "\n",
    "#### Group Members:\n",
    "Seyed Behdad Ahmadi 1985602\n",
    "\n",
    "Saeed Zohoorianmoftakharkhodaparast 1955809\n",
    "\n",
    "Mohammadmehdi Razavi 2023856\n",
    "\n",
    "Seyed Mohammad Mousavi Nishabouri 1922872\n",
    "\n",
    "Altynai Toiguliyeva 202713"
   ]
  },
  {
   "cell_type": "markdown",
   "metadata": {
    "id": "z3JbDnlRfuEu"
   },
   "source": [
    "## Part 1: Logistic Regression"
   ]
  },
  {
   "cell_type": "code",
   "execution_count": null,
   "metadata": {
    "collapsed": true,
    "id": "w2ZMMBWwfuEv"
   },
   "outputs": [],
   "source": [
    "import pandas as pd\n",
    "import numpy as np\n",
    "import matplotlib.pyplot as plt\n",
    "import seaborn as sns"
   ]
  },
  {
   "cell_type": "code",
   "execution_count": null,
   "metadata": {
    "id": "g5NtXkaffuEw",
    "pycharm": {
     "name": "#%%\n"
    }
   },
   "outputs": [],
   "source": [
    "df = pd.read_csv(\"framingham_heart_disease.csv\")\n"
   ]
  },
  {
   "cell_type": "code",
   "execution_count": null,
   "metadata": {
    "id": "qazJQVBifuEw",
    "outputId": "b2a0fa8a-af4a-425a-d2f4-62faa294a89e",
    "pycharm": {
     "name": "#%%\n"
    }
   },
   "outputs": [
    {
     "name": "stdout",
     "output_type": "stream",
     "text": [
      "4238\n"
     ]
    }
   ],
   "source": [
    "print(len(df))"
   ]
  },
  {
   "cell_type": "markdown",
   "metadata": {
    "id": "kHYNKVg5fuEx",
    "pycharm": {
     "name": "#%% md\n"
    }
   },
   "source": [
    "Features Engineering and Analysis"
   ]
  },
  {
   "cell_type": "code",
   "execution_count": null,
   "metadata": {
    "id": "-MUL-_yffuEy",
    "outputId": "032e74ba-08e4-4761-a253-5c472cc38494",
    "pycharm": {
     "name": "#%%\n"
    }
   },
   "outputs": [
    {
     "data": {
      "text/plain": [
       "male                 0\n",
       "age                  0\n",
       "education          105\n",
       "currentSmoker        0\n",
       "cigsPerDay          29\n",
       "BPMeds              53\n",
       "prevalentStroke      0\n",
       "prevalentHyp         0\n",
       "diabetes             0\n",
       "totChol             50\n",
       "sysBP                0\n",
       "diaBP                0\n",
       "BMI                 19\n",
       "heartRate            1\n",
       "glucose            388\n",
       "TenYearCHD           0\n",
       "dtype: int64"
      ]
     },
     "execution_count": 4,
     "metadata": {},
     "output_type": "execute_result"
    }
   ],
   "source": [
    "#First we are going to see how many NaN values we have\n",
    "df.isnull().sum()"
   ]
  },
  {
   "cell_type": "code",
   "execution_count": null,
   "metadata": {
    "id": "ppPB38scfuEy",
    "outputId": "6a97bd40-2f2e-46fd-ab07-955fe8c2c049",
    "pycharm": {
     "name": "#%%\n"
    }
   },
   "outputs": [
    {
     "name": "stdout",
     "output_type": "stream",
     "text": [
      "male               0.000000\n",
      "age                0.000000\n",
      "education          0.024776\n",
      "currentSmoker      0.000000\n",
      "cigsPerDay         0.006843\n",
      "BPMeds             0.012506\n",
      "prevalentStroke    0.000000\n",
      "prevalentHyp       0.000000\n",
      "diabetes           0.000000\n",
      "totChol            0.011798\n",
      "sysBP              0.000000\n",
      "diaBP              0.000000\n",
      "BMI                0.004483\n",
      "heartRate          0.000236\n",
      "glucose            0.091553\n",
      "TenYearCHD         0.000000\n",
      "dtype: float64\n"
     ]
    },
    {
     "data": {
      "text/plain": [
       "Text(0.5, 1.0, 'Missing values')"
      ]
     },
     "execution_count": 5,
     "metadata": {},
     "output_type": "execute_result"
    },
    {
     "data": {
      "image/png": "[encoded data removed]",
      "text/plain": [
       "<Figure size 864x432 with 1 Axes>"
      ]
     },
     "metadata": {
      "needs_background": "light"
     },
     "output_type": "display_data"
    }
   ],
   "source": [
    "#Plotting histogram of missing values\n",
    "missing_values_mean = df.isnull().mean()\n",
    "print(missing_values_mean)\n",
    "missing_values_mean.plot.bar(figsize=(12,6))\n",
    "plt.ylabel(\"Percentage of missing values\")\n",
    "plt.xlabel(\"Variables\")\n",
    "plt.title(\"Missing values\")"
   ]
  },
  {
   "cell_type": "markdown",
   "metadata": {
    "id": "jGGMAVlOfuEz",
    "pycharm": {
     "name": "#%% md\n"
    }
   },
   "source": [
    "As we can see, `glucose` has the most missing values among the all variables\n",
    "The best we can do is removing NaN values"
   ]
  },
  {
   "cell_type": "code",
   "execution_count": null,
   "metadata": {
    "id": "Zez2h0QKfuE0",
    "outputId": "cecfa3e0-c32b-4495-a815-ee80dce64fdb",
    "pycharm": {
     "name": "#%%\n"
    }
   },
   "outputs": [
    {
     "data": {
      "text/plain": [
       "male               0\n",
       "age                0\n",
       "education          0\n",
       "currentSmoker      0\n",
       "cigsPerDay         0\n",
       "BPMeds             0\n",
       "prevalentStroke    0\n",
       "prevalentHyp       0\n",
       "diabetes           0\n",
       "totChol            0\n",
       "sysBP              0\n",
       "diaBP              0\n",
       "BMI                0\n",
       "heartRate          0\n",
       "glucose            0\n",
       "TenYearCHD         0\n",
       "dtype: int64"
      ]
     },
     "execution_count": 7,
     "metadata": {},
     "output_type": "execute_result"
    }
   ],
   "source": [
    "#Removing NaN values\n",
    "df = df.dropna()\n",
    "#Let's check again how many missing values we have after removing them\n",
    "df.isnull().sum()"
   ]
  },
  {
   "cell_type": "markdown",
   "metadata": {
    "id": "tt_UACKIfuE1",
    "pycharm": {
     "name": "#%% md\n"
    }
   },
   "source": [
    "So now we don't have any missing values\n",
    "Now we can check features data types"
   ]
  },
  {
   "cell_type": "code",
   "execution_count": null,
   "metadata": {
    "id": "j1Ry4exqfuE1",
    "outputId": "acd55a72-b7d6-42db-f481-dda3b84b84c9",
    "pycharm": {
     "name": "#%%\n"
    }
   },
   "outputs": [
    {
     "name": "stdout",
     "output_type": "stream",
     "text": [
      "male                 int64\n",
      "age                  int64\n",
      "education          float64\n",
      "currentSmoker        int64\n",
      "cigsPerDay         float64\n",
      "BPMeds             float64\n",
      "prevalentStroke      int64\n",
      "prevalentHyp         int64\n",
      "diabetes             int64\n",
      "totChol            float64\n",
      "sysBP              float64\n",
      "diaBP              float64\n",
      "BMI                float64\n",
      "heartRate          float64\n",
      "glucose            float64\n",
      "TenYearCHD           int64\n",
      "dtype: object\n"
     ]
    }
   ],
   "source": [
    "print(df.dtypes) #To see data types of our variable"
   ]
  },
  {
   "cell_type": "code",
   "execution_count": null,
   "metadata": {
    "id": "cxpg2MSKfuE2",
    "outputId": "941222e0-2818-4013-be94-df37cf686361",
    "pycharm": {
     "name": "#%%\n"
    }
   },
   "outputs": [
    {
     "name": "stdout",
     "output_type": "stream",
     "text": [
      "male                  2\n",
      "age                  39\n",
      "education             4\n",
      "currentSmoker         2\n",
      "cigsPerDay           33\n",
      "BPMeds                2\n",
      "prevalentStroke       2\n",
      "prevalentHyp          2\n",
      "diabetes              2\n",
      "totChol             241\n",
      "sysBP               231\n",
      "diaBP               142\n",
      "BMI                1297\n",
      "heartRate            72\n",
      "glucose             138\n",
      "TenYearCHD            2\n",
      "dtype: int64\n"
     ]
    }
   ],
   "source": [
    "print(df.nunique()) #Getting all unique values of dataframe"
   ]
  },
  {
   "cell_type": "markdown",
   "metadata": {
    "id": "7GP4rdV4fuE2",
    "pycharm": {
     "name": "#%% md\n"
    }
   },
   "source": [
    "So we have `male,education,BPMeds,prevalentStroke,prevalentHyp,diabetes` as categorical variables.\n",
    "Let's see our variables distributions"
   ]
  },
  {
   "cell_type": "code",
   "execution_count": null,
   "metadata": {
    "id": "87whEOHzfuE2",
    "outputId": "c0ed5380-88e2-45ae-91e8-1dc11e476ac6",
    "pycharm": {
     "name": "#%%\n"
    }
   },
   "outputs": [
    {
     "data": {
      "image/png": "[encoded data removed]",
      "text/plain": [
       "<Figure size 864x864 with 16 Axes>"
      ]
     },
     "metadata": {
      "needs_background": "light"
     },
     "output_type": "display_data"
    }
   ],
   "source": [
    "df.hist(bins=30, figsize=(12,12), density=True)\n",
    "plt.show()"
   ]
  },
  {
   "cell_type": "markdown",
   "metadata": {
    "id": "Y5Ic0kq4fuE3"
   },
   "source": [
    "Now we plot variables correlation to see which features are correlated with our target"
   ]
  },
  {
   "cell_type": "code",
   "execution_count": null,
   "metadata": {
    "id": "uogkTYtlfuE3",
    "outputId": "87735055-34b8-4ea2-bec8-d847a63dcf86",
    "pycharm": {
     "name": "#%%\n"
    }
   },
   "outputs": [
    {
     "data": {
      "text/plain": [
       "<AxesSubplot:>"
      ]
     },
     "execution_count": 11,
     "metadata": {},
     "output_type": "execute_result"
    },
    {
     "data": {
      "image/png": "[encoded data removed]",
      "text/plain": [
       "<Figure size 1800x1800 with 2 Axes>"
      ]
     },
     "metadata": {
      "needs_background": "light"
     },
     "output_type": "display_data"
    }
   ],
   "source": [
    "plt.figure(figsize=(25,25))\n",
    "sns.heatmap(df.corr(),annot=True,cmap='RdYlGn')"
   ]
  },
  {
   "cell_type": "markdown",
   "metadata": {
    "id": "LZ1B2Nd5fuE3"
   },
   "source": [
    "As we can see there are some features that are highly correlated with each other.\n",
    "We can trim some of them to reduce dimension of our features.\n",
    "`sysBP` and `diaBP` are highly correlated. (0.79)\n",
    "`prevalentHyp` and `sysBP` are highly correlated. (0.7)\n",
    "`currentSmoker` and `cigsPerday` are highly correlated. (0.77)\n",
    "Now we check how each of these features are correlated with our target (`TenYearCHD`)\n",
    "We trim these features because they are less correlated with our target:\n",
    "`currentSmoker` = 0.019\n",
    "`diaBP` = 0.15\n",
    "`prevalentHyp` = 0.18"
   ]
  },
  {
   "cell_type": "markdown",
   "metadata": {
    "id": "-DmcIuSLfuE4"
   },
   "source": [
    "Now we find important features by performing a Logistic Regression and evaluating coefficients"
   ]
  },
  {
   "cell_type": "code",
   "execution_count": null,
   "metadata": {
    "id": "CYW-rta0fuE4",
    "outputId": "54a552d2-ce6e-4182-b48e-1c330cafdf1f",
    "pycharm": {
     "name": "#%%\n"
    }
   },
   "outputs": [
    {
     "name": "stdout",
     "output_type": "stream",
     "text": [
      "Feature: 0, Score: 0.55859\n",
      "Feature: 1, Score: 0.06324\n",
      "Feature: 2, Score: -0.04757\n",
      "Feature: 3, Score: 0.08133\n",
      "Feature: 4, Score: 0.01752\n",
      "Feature: 5, Score: 0.15378\n",
      "Feature: 6, Score: 0.70114\n",
      "Feature: 7, Score: 0.24582\n",
      "Feature: 8, Score: 0.00355\n",
      "Feature: 9, Score: 0.00230\n",
      "Feature: 10, Score: 0.01538\n",
      "Feature: 11, Score: -0.00442\n",
      "Feature: 12, Score: 0.00621\n",
      "Feature: 13, Score: -0.00342\n",
      "Feature: 14, Score: 0.00728\n"
     ]
    },
    {
     "data": {
      "image/png": "[encoded data removed]",
      "text/plain": [
       "<Figure size 432x288 with 1 Axes>"
      ]
     },
     "metadata": {
      "needs_background": "light"
     },
     "output_type": "display_data"
    }
   ],
   "source": [
    "from sklearn.linear_model import LogisticRegression #Importing LogisticRegression module\n",
    "lr_model = LogisticRegression(max_iter=1000000,n_jobs=-1) #Defining an instance\n",
    "lr_X = df.drop([\"TenYearCHD\"],axis=1).values #Features matrix\n",
    "lr_Y = df[\"TenYearCHD\"].values #Target vector\n",
    "lr_model.fit(lr_X, lr_Y) #Fitting the model\n",
    "importance = lr_model.coef_[0]\n",
    "for i,v in enumerate(importance):\n",
    "    print('Feature: %0d, Score: %.5f' % (i,v))\n",
    "#Plotting features importance\n",
    "plt.bar([x for x in range(len(importance))], importance)\n",
    "plt.show()"
   ]
  },
  {
   "cell_type": "markdown",
   "metadata": {
    "id": "Npbj29XvfuE5"
   },
   "source": [
    "Second method, we use is using RandomForestClassifier to find important features."
   ]
  },
  {
   "cell_type": "code",
   "execution_count": null,
   "metadata": {
    "id": "ip6CW8cbfuE5",
    "outputId": "52adf1ac-9a35-4bfa-a0cc-d43371c876b2",
    "pycharm": {
     "name": "#%%\n"
    }
   },
   "outputs": [
    {
     "name": "stdout",
     "output_type": "stream",
     "text": [
      "Feature: 0, Score: 0.02131\n",
      "Feature: 1, Score: 0.12335\n",
      "Feature: 2, Score: 0.03743\n",
      "Feature: 3, Score: 0.01172\n",
      "Feature: 4, Score: 0.04996\n",
      "Feature: 5, Score: 0.00658\n",
      "Feature: 6, Score: 0.00367\n",
      "Feature: 7, Score: 0.01771\n",
      "Feature: 8, Score: 0.00655\n",
      "Feature: 9, Score: 0.12029\n",
      "Feature: 10, Score: 0.13246\n",
      "Feature: 11, Score: 0.12075\n",
      "Feature: 12, Score: 0.12991\n",
      "Feature: 13, Score: 0.09547\n",
      "Feature: 14, Score: 0.12284\n"
     ]
    },
    {
     "data": {
      "text/plain": [
       "<BarContainer object of 15 artists>"
      ]
     },
     "execution_count": 13,
     "metadata": {},
     "output_type": "execute_result"
    },
    {
     "data": {
      "image/png": "[encoded data removed]",
      "text/plain": [
       "<Figure size 432x288 with 1 Axes>"
      ]
     },
     "metadata": {
      "needs_background": "light"
     },
     "output_type": "display_data"
    }
   ],
   "source": [
    "from sklearn.ensemble import RandomForestClassifier\n",
    "rf_model = RandomForestClassifier(n_jobs=-1)\n",
    "rf_X = df.drop([\"TenYearCHD\"],axis=1).values #Features matrix\n",
    "rf_Y = df[\"TenYearCHD\"].values #Target vector\n",
    "rf_model.fit(rf_X, rf_Y)\n",
    "# get importance\n",
    "importance = rf_model.feature_importances_\n",
    "# summarize feature importance\n",
    "for i,v in enumerate(importance):\n",
    "    print('Feature: %0d, Score: %.5f' % (i,v))\n",
    "# plot feature importance\n",
    "plt.bar([x for x in range(len(importance))], importance)"
   ]
  },
  {
   "cell_type": "markdown",
   "metadata": {
    "id": "5qzcY7CYfuE5"
   },
   "source": [
    "As we can see important features are 1,9,10,11,12,13,14\n",
    "Now we get their names"
   ]
  },
  {
   "cell_type": "code",
   "execution_count": null,
   "metadata": {
    "id": "VkIpfkfxfuE6",
    "outputId": "2c695cb5-aa30-4590-ea61-e165430a4eda",
    "pycharm": {
     "name": "#%%\n"
    }
   },
   "outputs": [
    {
     "data": {
      "text/plain": [
       "Index(['age', 'totChol', 'sysBP', 'diaBP', 'BMI', 'heartRate', 'glucose'], dtype='object')"
      ]
     },
     "execution_count": 14,
     "metadata": {},
     "output_type": "execute_result"
    }
   ],
   "source": [
    "important_features = [1,9,10,11,12,13,14]\n",
    "important_features = df.columns[important_features]\n",
    "important_features"
   ]
  },
  {
   "cell_type": "markdown",
   "metadata": {
    "id": "YB3v7b19fuE6"
   },
   "source": [
    "So `age,totChol,sysBP,diaBP,BMI,heartRate,glucose` are the most important features."
   ]
  },
  {
   "cell_type": "markdown",
   "metadata": {
    "id": "H_YyyK6lfuE6"
   },
   "source": [
    "Third method,we use the chi-squared (chi²) statistical test."
   ]
  },
  {
   "cell_type": "code",
   "execution_count": null,
   "metadata": {
    "id": "4AzXbyagfuE6",
    "outputId": "68b83c81-8d55-4936-d109-c7e91f4d6ee1",
    "pycharm": {
     "name": "#%%\n"
    }
   },
   "outputs": [
    {
     "name": "stdout",
     "output_type": "stream",
     "text": [
      "           Specs       Score\n",
      "10         sysBP  669.506552\n",
      "14       glucose  379.583137\n",
      "1            age  295.507761\n",
      "9        totChol  249.153078\n",
      "4     cigsPerDay  156.567318\n",
      "11         diaBP  142.878574\n",
      "7   prevalentHyp   82.967184\n",
      "8       diabetes   31.027987\n",
      "5         BPMeds   28.153003\n",
      "0           male   17.120430\n"
     ]
    }
   ],
   "source": [
    "from sklearn.feature_selection import SelectKBest\n",
    "from sklearn.feature_selection import chi2\n",
    "x = df.drop([\"TenYearCHD\"],axis=1) #Features matrix\n",
    "y = df[\"TenYearCHD\"].values #Target vector\n",
    "#Apply SelectKBest class to extract top 10 best features\n",
    "kBestFeatures = SelectKBest(score_func=chi2, k=10)\n",
    "fit = kBestFeatures.fit(x,y)\n",
    "df_scores = pd.DataFrame(fit.scores_)\n",
    "df_columns = pd.DataFrame(x.columns)\n",
    "#Concat two dataframes for better visualization\n",
    "featureScores = pd.concat([df_columns,df_scores],axis=1)\n",
    "featureScores.columns = ['Specs','Score']\n",
    "print(featureScores.nlargest(10,'Score'))"
   ]
  },
  {
   "cell_type": "markdown",
   "metadata": {
    "id": "e1Cg2OVMfuE7"
   },
   "source": [
    "Before that, we should see how our target is balanced to know which metrics we should use to evaluate our model."
   ]
  },
  {
   "cell_type": "code",
   "execution_count": null,
   "metadata": {
    "id": "nLGtvf7wfuE7",
    "outputId": "a5620c01-cf38-4016-9310-504f806d94cc",
    "pycharm": {
     "name": "#%%\n"
    }
   },
   "outputs": [
    {
     "name": "stdout",
     "output_type": "stream",
     "text": [
      "0    0.847648\n",
      "1    0.152352\n",
      "Name: TenYearCHD, dtype: float64\n"
     ]
    },
    {
     "data": {
      "image/png": "[encoded data removed]",
      "text/plain": [
       "<Figure size 432x288 with 1 Axes>"
      ]
     },
     "metadata": {
      "needs_background": "light"
     },
     "output_type": "display_data"
    }
   ],
   "source": [
    "target_frequency = df['TenYearCHD'].value_counts() / len(df)\n",
    "print(target_frequency)\n",
    "fig = target_frequency.sort_values(ascending=False).plot.bar()\n",
    "fig.set_ylabel('Percentage of our target class')\n",
    "fig.set_xlabel('Target: class')\n",
    "fig.set_title('Identifying how balance our target is')\n",
    "plt.show()"
   ]
  },
  {
   "cell_type": "markdown",
   "metadata": {
    "id": "5DMVEc7bfuE7"
   },
   "source": [
    "Our dataset is imbalanced so we should use `confustion_matrix` and `roc_auc_score`.\n",
    "Also we over-sample our dataset to have a balance dataset."
   ]
  },
  {
   "cell_type": "markdown",
   "metadata": {
    "id": "aEQVo2IefuE7"
   },
   "source": [
    "Our selected features are: age,totChol,sysBP,diaBP,BMI,heartRate,glucose,cigsPerDay\n",
    "All of selected features are numerical. So we should normalize them to improve our model."
   ]
  },
  {
   "cell_type": "code",
   "execution_count": null,
   "metadata": {
    "id": "i3pdOoFFfuE7",
    "pycharm": {
     "name": "#%%\n"
    }
   },
   "outputs": [],
   "source": [
    "important_features = ['age', 'totChol', 'sysBP', 'diaBP', 'glucose','cigsPerDay']"
   ]
  },
  {
   "cell_type": "markdown",
   "metadata": {
    "id": "yD141MvufuE8"
   },
   "source": []
  },
  {
   "cell_type": "code",
   "execution_count": null,
   "metadata": {
    "id": "cJh4ye8HfuE8",
    "pycharm": {
     "name": "#%%\n"
    }
   },
   "outputs": [],
   "source": [
    "from sklearn.linear_model import LogisticRegression\n",
    "from sklearn.metrics import accuracy_score,roc_auc_score,confusion_matrix,classification_report,roc_curve,f1_score\n",
    "from sklearn.model_selection import train_test_split\n",
    "from sklearn.preprocessing import KBinsDiscretizer\n",
    "from sklearn.naive_bayes import GaussianNB\n",
    "from sklearn.preprocessing import StandardScaler,MinMaxScaler,RobustScaler\n",
    "from sklearn.ensemble import StackingClassifier,VotingClassifier\n",
    "from sklearn.svm import SVC\n",
    "from sklearn.neighbors import KNeighborsClassifier"
   ]
  },
  {
   "cell_type": "code",
   "execution_count": null,
   "metadata": {
    "id": "RAiXXqayfuE8",
    "outputId": "04178870-028f-4dac-a419-7db81d1eb631",
    "pycharm": {
     "name": "#%%\n"
    }
   },
   "outputs": [
    {
     "name": "stdout",
     "output_type": "stream",
     "text": [
      "      age  totChol  sysBP  diaBP  glucose  cigsPerDay\n",
      "0      39    195.0  106.0   70.0     77.0         0.0\n",
      "1      46    250.0  121.0   81.0     76.0         0.0\n",
      "2      48    245.0  127.5   80.0     70.0        20.0\n",
      "3      61    225.0  150.0   95.0    103.0        30.0\n",
      "4      46    285.0  130.0   84.0     85.0        23.0\n",
      "...   ...      ...    ...    ...      ...         ...\n",
      "4231   58    187.0  141.0   81.0     81.0         0.0\n",
      "4232   68    176.0  168.0   97.0     79.0         0.0\n",
      "4233   50    313.0  179.0   92.0     86.0         1.0\n",
      "4234   51    207.0  126.5   80.0     68.0        43.0\n",
      "4237   52    269.0  133.5   83.0    107.0         0.0\n",
      "\n",
      "[3656 rows x 6 columns]\n",
      "[[ 1.         -0.68122271 -0.81481481 -0.8        -0.0625      0.        ]\n",
      " [ 4.          0.27947598 -0.25925926 -0.06666667 -0.125       0.        ]\n",
      " [ 4.          0.19213974 -0.01851852 -0.13333333 -0.5         3.        ]\n",
      " ...\n",
      " [ 5.          1.37991266  1.88888889  0.66666667  0.5         0.        ]\n",
      " [ 5.         -0.47161572 -0.05555556 -0.13333333 -0.625       4.        ]\n",
      " [ 6.          0.61135371  0.2037037   0.06666667  1.8125      0.        ]]\n"
     ]
    },
    {
     "name": "stderr",
     "output_type": "stream",
     "text": [
      "/Library/Frameworks/Python.framework/Versions/3.8/lib/python3.8/site-packages/pandas/core/frame.py:3678: SettingWithCopyWarning: \n",
      "A value is trying to be set on a copy of a slice from a DataFrame.\n",
      "Try using .loc[row_indexer,col_indexer] = value instead\n",
      "\n",
      "See the caveats in the documentation: https://pandas.pydata.org/pandas-docs/stable/user_guide/indexing.html#returning-a-view-versus-a-copy\n",
      "  self[col] = igetitem(value, i)\n",
      "/Library/Frameworks/Python.framework/Versions/3.8/lib/python3.8/site-packages/pandas/core/frame.py:3678: SettingWithCopyWarning: \n",
      "A value is trying to be set on a copy of a slice from a DataFrame.\n",
      "Try using .loc[row_indexer,col_indexer] = value instead\n",
      "\n",
      "See the caveats in the documentation: https://pandas.pydata.org/pandas-docs/stable/user_guide/indexing.html#returning-a-view-versus-a-copy\n",
      "  self[col] = igetitem(value, i)\n",
      "/Library/Frameworks/Python.framework/Versions/3.8/lib/python3.8/site-packages/pandas/core/frame.py:3678: SettingWithCopyWarning: \n",
      "A value is trying to be set on a copy of a slice from a DataFrame.\n",
      "Try using .loc[row_indexer,col_indexer] = value instead\n",
      "\n",
      "See the caveats in the documentation: https://pandas.pydata.org/pandas-docs/stable/user_guide/indexing.html#returning-a-view-versus-a-copy\n",
      "  self[col] = igetitem(value, i)\n",
      "/Library/Frameworks/Python.framework/Versions/3.8/lib/python3.8/site-packages/pandas/core/frame.py:3678: SettingWithCopyWarning: \n",
      "A value is trying to be set on a copy of a slice from a DataFrame.\n",
      "Try using .loc[row_indexer,col_indexer] = value instead\n",
      "\n",
      "See the caveats in the documentation: https://pandas.pydata.org/pandas-docs/stable/user_guide/indexing.html#returning-a-view-versus-a-copy\n",
      "  self[col] = igetitem(value, i)\n",
      "/Library/Frameworks/Python.framework/Versions/3.8/lib/python3.8/site-packages/pandas/core/frame.py:3678: SettingWithCopyWarning: \n",
      "A value is trying to be set on a copy of a slice from a DataFrame.\n",
      "Try using .loc[row_indexer,col_indexer] = value instead\n",
      "\n",
      "See the caveats in the documentation: https://pandas.pydata.org/pandas-docs/stable/user_guide/indexing.html#returning-a-view-versus-a-copy\n",
      "  self[col] = igetitem(value, i)\n",
      "/Library/Frameworks/Python.framework/Versions/3.8/lib/python3.8/site-packages/sklearn/preprocessing/_discretization.py:220: UserWarning: Bins whose width are too small (i.e., <= 1e-8) in feature 0 are removed. Consider decreasing the number of bins.\n",
      "  warnings.warn('Bins whose width are too small (i.e., <= '\n",
      "/Library/Frameworks/Python.framework/Versions/3.8/lib/python3.8/site-packages/pandas/core/frame.py:3678: SettingWithCopyWarning: \n",
      "A value is trying to be set on a copy of a slice from a DataFrame.\n",
      "Try using .loc[row_indexer,col_indexer] = value instead\n",
      "\n",
      "See the caveats in the documentation: https://pandas.pydata.org/pandas-docs/stable/user_guide/indexing.html#returning-a-view-versus-a-copy\n",
      "  self[col] = igetitem(value, i)\n"
     ]
    }
   ],
   "source": [
    "#Defining our features matrix with important features\n",
    "age = df[\"age\"].values\n",
    "cigsPerDay = df[\"cigsPerDay\"].values\n",
    "numerical_features = [\"totChol\",\"sysBP\",\"diaBP\",\"glucose\"]\n",
    "nominal_features = [\"age\",\"cigsPerDay\"]\n",
    "X = df[important_features]\n",
    "print(X)\n",
    "def NumericalScaling():\n",
    "    for c in numerical_features:\n",
    "        scaler = RobustScaler()\n",
    "        X[[c]] = scaler.fit_transform(X[[c]])\n",
    "    for c in nominal_features:\n",
    "        binsDiscretizer = KBinsDiscretizer(n_bins=10, encode='ordinal',\n",
    "                                           strategy='quantile')\n",
    "        X[[c]] = binsDiscretizer.fit_transform(X[[c]])\n",
    "\n",
    "NumericalScaling()\n",
    "X = X.values\n",
    "print(X)\n",
    "Y = df[\"TenYearCHD\"].values\n"
   ]
  },
  {
   "cell_type": "markdown",
   "metadata": {
    "id": "jd-ZxMIBfuE9"
   },
   "source": [
    "Now we OverSample our dataset to have a balanced dataset"
   ]
  },
  {
   "cell_type": "code",
   "execution_count": null,
   "metadata": {
    "id": "E5KoaALlfuE9",
    "outputId": "18d1efe5-7ca1-4016-e26b-7bf5deed7d31",
    "pycharm": {
     "name": "#%%\n"
    }
   },
   "outputs": [
    {
     "name": "stdout",
     "output_type": "stream",
     "text": [
      "(array([0, 1]), array([3099, 3099]))\n"
     ]
    }
   ],
   "source": [
    "#OverSampling\n",
    "from imblearn.over_sampling import RandomOverSampler\n",
    "ros = RandomOverSampler(random_state=43)\n",
    "x_ros, y_ros = ros.fit_resample(X, Y)\n",
    "print(np.unique(y_ros,return_counts=True))\n"
   ]
  },
  {
   "cell_type": "code",
   "execution_count": null,
   "metadata": {
    "id": "3EfcryNcfuE9",
    "outputId": "1b2bdfa5-cc1e-4ae2-a988-ce7493f78947",
    "pycharm": {
     "name": "#%%\n"
    },
    "scrolled": false
   },
   "outputs": [
    {
     "name": "stdout",
     "output_type": "stream",
     "text": [
      "----------------------------\n",
      "Logistic Regression\n",
      "Accuracy = 0.660752688172043\n",
      "Confusion Matrix\n",
      "[[596 286]\n",
      " [345 633]]\n",
      "ROC AUC Score = 0.6614881126274641 \n",
      "Classification Report\n",
      "              precision    recall  f1-score   support\n",
      "\n",
      "           0       0.63      0.68      0.65       882\n",
      "           1       0.69      0.65      0.67       978\n",
      "\n",
      "    accuracy                           0.66      1860\n",
      "   macro avg       0.66      0.66      0.66      1860\n",
      "weighted avg       0.66      0.66      0.66      1860\n",
      "\n",
      "F1 Score: 0.6673695308381655 \n",
      "----------------------------\n",
      "Gaussuian Naive Bayes\n",
      "Accuracy = 0.6209677419354839\n",
      "Confusion Matrix\n",
      "[[752 516]\n",
      " [189 403]]\n",
      "ROC AUC Score = 0.6369015900758802 \n",
      "Classification Report\n",
      "              precision    recall  f1-score   support\n",
      "\n",
      "           0       0.80      0.59      0.68      1268\n",
      "           1       0.44      0.68      0.53       592\n",
      "\n",
      "    accuracy                           0.62      1860\n",
      "   macro avg       0.62      0.64      0.61      1860\n",
      "weighted avg       0.68      0.62      0.63      1860\n",
      "\n",
      "F1 Score: 0.5334215751158173 \n",
      "----------------------------\n",
      "Support Vector Machines\n",
      "Accuracy = 0.6639784946236559\n",
      "Confusion Matrix\n",
      "[[590 274]\n",
      " [351 645]]\n",
      "ROC AUC Score = 0.6652303659080767 \n",
      "Classification Report\n",
      "              precision    recall  f1-score   support\n",
      "\n",
      "           0       0.63      0.68      0.65       864\n",
      "           1       0.70      0.65      0.67       996\n",
      "\n",
      "    accuracy                           0.66      1860\n",
      "   macro avg       0.66      0.67      0.66      1860\n",
      "weighted avg       0.67      0.66      0.66      1860\n",
      "\n",
      "F1 Score: 0.6736292428198434 \n",
      "----------------------------\n",
      "K Nearest Neighbors\n",
      "Accuracy = 0.875268817204301\n",
      "Confusion Matrix\n",
      "[[774  65]\n",
      " [167 854]]\n",
      "ROC AUC Score = 0.8794808427083685 \n",
      "Classification Report\n",
      "              precision    recall  f1-score   support\n",
      "\n",
      "           0       0.82      0.92      0.87       839\n",
      "           1       0.93      0.84      0.88      1021\n",
      "\n",
      "    accuracy                           0.88      1860\n",
      "   macro avg       0.88      0.88      0.88      1860\n",
      "weighted avg       0.88      0.88      0.88      1860\n",
      "\n",
      "F1 Score: 0.8804123711340205 \n",
      "----------------------------\n",
      "Random Forest\n",
      "Accuracy = 0.9376344086021505\n",
      "Confusion Matrix\n",
      "[[840  15]\n",
      " [101 904]]\n",
      "ROC AUC Score = 0.9409793139565331 \n",
      "Classification Report\n",
      "              precision    recall  f1-score   support\n",
      "\n",
      "           0       0.89      0.98      0.94       855\n",
      "           1       0.98      0.90      0.94      1005\n",
      "\n",
      "    accuracy                           0.94      1860\n",
      "   macro avg       0.94      0.94      0.94      1860\n",
      "weighted avg       0.94      0.94      0.94      1860\n",
      "\n",
      "F1 Score: 0.9397089397089397 \n",
      "----------------------------\n",
      "Stacking Classifier\n",
      "Accuracy = 0.9725806451612903\n",
      "Confusion Matrix\n",
      "[[910  20]\n",
      " [ 31 899]]\n",
      "ROC AUC Score = 0.9725806451612904 \n",
      "Classification Report\n",
      "              precision    recall  f1-score   support\n",
      "\n",
      "           0       0.97      0.98      0.97       930\n",
      "           1       0.98      0.97      0.97       930\n",
      "\n",
      "    accuracy                           0.97      1860\n",
      "   macro avg       0.97      0.97      0.97      1860\n",
      "weighted avg       0.97      0.97      0.97      1860\n",
      "\n",
      "F1 Score: 0.9724175229853975 \n"
     ]
    }
   ],
   "source": [
    "trainX,testX,trainY,testY = train_test_split(x_ros,y_ros,test_size=0.3,random_state=43)\n",
    "stacking = [('nb',RandomForestClassifier(n_jobs=-1)),('lr',LogisticRegression(n_jobs=-1))]\n",
    "stacking = StackingClassifier(estimators=stacking,n_jobs=-1)\n",
    "rf = RandomForestClassifier(n_jobs=-1)\n",
    "lr = LogisticRegression(max_iter=10000,n_jobs=-1)\n",
    "nb = GaussianNB()\n",
    "svc = SVC()\n",
    "knn = KNeighborsClassifier(n_jobs=-1,n_neighbors=2)\n",
    "models = [lr,nb,svc,knn,rf,stacking]\n",
    "names = [\"Logistic Regression\",\"Gaussuian Naive Bayes\",\"Support Vector Machines\",\"K Nearest Neighbors\",\"Random Forest\",\"Stacking Classifier\"]\n",
    "def RunModel(model,name):\n",
    "    print(\"----------------------------\")\n",
    "    print(name)\n",
    "    model.fit(trainX,trainY)\n",
    "    pred = model.predict(testX)\n",
    "    score = accuracy_score(testY,pred)\n",
    "    print(\"Accuracy = {}\".format(score))\n",
    "    matrix = confusion_matrix(pred,testY)\n",
    "    print(\"Confusion Matrix\")\n",
    "    print(matrix)\n",
    "    print(\"ROC AUC Score = {} \".format(roc_auc_score(pred,testY)))\n",
    "    print(\"Classification Report\")\n",
    "    print(classification_report(pred,testY))\n",
    "    print(\"F1 Score: {} \".format(f1_score(pred,testY)))\n",
    "\n",
    "\n",
    "for _i in range(len(models)):\n",
    "    RunModel(models[_i],names[_i])"
   ]
  },
  {
   "cell_type": "markdown",
   "metadata": {
    "id": "RR7cJUG6fuE-",
    "pycharm": {
     "name": "#%%\n"
    }
   },
   "source": [
    "## Part 2: Image Classification\n",
    "\n",
    "\n",
    "### Data Preparation"
   ]
  },
  {
   "cell_type": "code",
   "execution_count": 1,
   "metadata": {
    "colab": {
     "base_uri": "https://localhost:8080/",
     "height": 317
    },
    "executionInfo": {
     "elapsed": 46679,
     "status": "ok",
     "timestamp": 1640551995776,
     "user": {
      "displayName": "Saeed Zns",
      "photoUrl": "https://lh3.googleusercontent.com/a-/AOh14GgKQKezT0cfLLvv4RmgAajwnRiO9e4WAtLaJ03qDw=s64",
      "userId": "13970882730426942657"
     },
     "user_tz": -60
    },
    "id": "RIY49OGhfuE-",
    "outputId": "1cb3e0d6-5fb2-48b4-bfdf-2fafa20369ed"
   },
   "outputs": [
    {
     "name": "stdout",
     "output_type": "stream",
     "text": [
      "Mounted at /content/drive\n"
     ]
    },
    {
     "data": {
      "text/html": [
       "\n",
       "  <div id=\"df-2cccc4fd-cf41-4aee-ae25-33a0a02b56ee\">\n",
       "    <div class=\"colab-df-container\">\n",
       "      <div>\n",
       "<style scoped>\n",
       "    .dataframe tbody tr th:only-of-type {\n",
       "        vertical-align: middle;\n",
       "    }\n",
       "\n",
       "    .dataframe tbody tr th {\n",
       "        vertical-align: top;\n",
       "    }\n",
       "\n",
       "    .dataframe thead th {\n",
       "        text-align: right;\n",
       "    }\n",
       "</style>\n",
       "<table border=\"1\" class=\"dataframe\">\n",
       "  <thead>\n",
       "    <tr style=\"text-align: right;\">\n",
       "      <th></th>\n",
       "      <th>0</th>\n",
       "      <th>1</th>\n",
       "      <th>2</th>\n",
       "      <th>3</th>\n",
       "      <th>4</th>\n",
       "      <th>5</th>\n",
       "      <th>6</th>\n",
       "      <th>7</th>\n",
       "      <th>8</th>\n",
       "      <th>9</th>\n",
       "      <th>10</th>\n",
       "      <th>11</th>\n",
       "      <th>12</th>\n",
       "      <th>13</th>\n",
       "      <th>14</th>\n",
       "      <th>15</th>\n",
       "      <th>16</th>\n",
       "      <th>17</th>\n",
       "      <th>18</th>\n",
       "      <th>19</th>\n",
       "      <th>20</th>\n",
       "      <th>21</th>\n",
       "      <th>22</th>\n",
       "      <th>23</th>\n",
       "      <th>24</th>\n",
       "      <th>25</th>\n",
       "      <th>26</th>\n",
       "      <th>27</th>\n",
       "      <th>28</th>\n",
       "      <th>29</th>\n",
       "      <th>30</th>\n",
       "      <th>31</th>\n",
       "      <th>32</th>\n",
       "      <th>33</th>\n",
       "      <th>34</th>\n",
       "      <th>35</th>\n",
       "      <th>36</th>\n",
       "      <th>37</th>\n",
       "      <th>38</th>\n",
       "      <th>39</th>\n",
       "      <th>...</th>\n",
       "      <th>148</th>\n",
       "      <th>149</th>\n",
       "      <th>150</th>\n",
       "      <th>151</th>\n",
       "      <th>152</th>\n",
       "      <th>153</th>\n",
       "      <th>154</th>\n",
       "      <th>155</th>\n",
       "      <th>156</th>\n",
       "      <th>157</th>\n",
       "      <th>158</th>\n",
       "      <th>159</th>\n",
       "      <th>160</th>\n",
       "      <th>161</th>\n",
       "      <th>162</th>\n",
       "      <th>163</th>\n",
       "      <th>164</th>\n",
       "      <th>165</th>\n",
       "      <th>166</th>\n",
       "      <th>167</th>\n",
       "      <th>168</th>\n",
       "      <th>169</th>\n",
       "      <th>170</th>\n",
       "      <th>171</th>\n",
       "      <th>172</th>\n",
       "      <th>173</th>\n",
       "      <th>174</th>\n",
       "      <th>175</th>\n",
       "      <th>176</th>\n",
       "      <th>177</th>\n",
       "      <th>178</th>\n",
       "      <th>179</th>\n",
       "      <th>180</th>\n",
       "      <th>181</th>\n",
       "      <th>182</th>\n",
       "      <th>183</th>\n",
       "      <th>184</th>\n",
       "      <th>185</th>\n",
       "      <th>186</th>\n",
       "      <th>187</th>\n",
       "    </tr>\n",
       "  </thead>\n",
       "  <tbody>\n",
       "    <tr>\n",
       "      <th>0</th>\n",
       "      <td>0.977941</td>\n",
       "      <td>0.926471</td>\n",
       "      <td>0.681373</td>\n",
       "      <td>0.245098</td>\n",
       "      <td>0.154412</td>\n",
       "      <td>0.191176</td>\n",
       "      <td>0.151961</td>\n",
       "      <td>0.085784</td>\n",
       "      <td>0.058824</td>\n",
       "      <td>0.049020</td>\n",
       "      <td>0.044118</td>\n",
       "      <td>0.061275</td>\n",
       "      <td>0.066176</td>\n",
       "      <td>0.061275</td>\n",
       "      <td>0.049020</td>\n",
       "      <td>0.073529</td>\n",
       "      <td>0.061275</td>\n",
       "      <td>0.061275</td>\n",
       "      <td>0.066176</td>\n",
       "      <td>0.068627</td>\n",
       "      <td>0.095588</td>\n",
       "      <td>0.075980</td>\n",
       "      <td>0.093137</td>\n",
       "      <td>0.105392</td>\n",
       "      <td>0.115196</td>\n",
       "      <td>0.102941</td>\n",
       "      <td>0.117647</td>\n",
       "      <td>0.125000</td>\n",
       "      <td>0.142157</td>\n",
       "      <td>0.127451</td>\n",
       "      <td>0.151961</td>\n",
       "      <td>0.144608</td>\n",
       "      <td>0.164216</td>\n",
       "      <td>0.144608</td>\n",
       "      <td>0.159314</td>\n",
       "      <td>0.151961</td>\n",
       "      <td>0.154412</td>\n",
       "      <td>0.142157</td>\n",
       "      <td>0.151961</td>\n",
       "      <td>0.151961</td>\n",
       "      <td>...</td>\n",
       "      <td>0.0</td>\n",
       "      <td>0.0</td>\n",
       "      <td>0.0</td>\n",
       "      <td>0.0</td>\n",
       "      <td>0.0</td>\n",
       "      <td>0.0</td>\n",
       "      <td>0.0</td>\n",
       "      <td>0.0</td>\n",
       "      <td>0.0</td>\n",
       "      <td>0.0</td>\n",
       "      <td>0.0</td>\n",
       "      <td>0.0</td>\n",
       "      <td>0.0</td>\n",
       "      <td>0.0</td>\n",
       "      <td>0.0</td>\n",
       "      <td>0.0</td>\n",
       "      <td>0.0</td>\n",
       "      <td>0.0</td>\n",
       "      <td>0.0</td>\n",
       "      <td>0.0</td>\n",
       "      <td>0.0</td>\n",
       "      <td>0.0</td>\n",
       "      <td>0.0</td>\n",
       "      <td>0.0</td>\n",
       "      <td>0.0</td>\n",
       "      <td>0.0</td>\n",
       "      <td>0.0</td>\n",
       "      <td>0.0</td>\n",
       "      <td>0.0</td>\n",
       "      <td>0.0</td>\n",
       "      <td>0.0</td>\n",
       "      <td>0.0</td>\n",
       "      <td>0.0</td>\n",
       "      <td>0.0</td>\n",
       "      <td>0.0</td>\n",
       "      <td>0.0</td>\n",
       "      <td>0.0</td>\n",
       "      <td>0.0</td>\n",
       "      <td>0.0</td>\n",
       "      <td>0.0</td>\n",
       "    </tr>\n",
       "    <tr>\n",
       "      <th>1</th>\n",
       "      <td>0.960114</td>\n",
       "      <td>0.863248</td>\n",
       "      <td>0.461538</td>\n",
       "      <td>0.196581</td>\n",
       "      <td>0.094017</td>\n",
       "      <td>0.125356</td>\n",
       "      <td>0.099715</td>\n",
       "      <td>0.088319</td>\n",
       "      <td>0.074074</td>\n",
       "      <td>0.082621</td>\n",
       "      <td>0.074074</td>\n",
       "      <td>0.062678</td>\n",
       "      <td>0.065527</td>\n",
       "      <td>0.065527</td>\n",
       "      <td>0.062678</td>\n",
       "      <td>0.076923</td>\n",
       "      <td>0.071225</td>\n",
       "      <td>0.082621</td>\n",
       "      <td>0.091168</td>\n",
       "      <td>0.096866</td>\n",
       "      <td>0.082621</td>\n",
       "      <td>0.082621</td>\n",
       "      <td>0.091168</td>\n",
       "      <td>0.105413</td>\n",
       "      <td>0.122507</td>\n",
       "      <td>0.148148</td>\n",
       "      <td>0.182336</td>\n",
       "      <td>0.193732</td>\n",
       "      <td>0.213675</td>\n",
       "      <td>0.207977</td>\n",
       "      <td>0.222222</td>\n",
       "      <td>0.253561</td>\n",
       "      <td>0.270655</td>\n",
       "      <td>0.287749</td>\n",
       "      <td>0.284900</td>\n",
       "      <td>0.293447</td>\n",
       "      <td>0.256410</td>\n",
       "      <td>0.247863</td>\n",
       "      <td>0.188034</td>\n",
       "      <td>0.145299</td>\n",
       "      <td>...</td>\n",
       "      <td>0.0</td>\n",
       "      <td>0.0</td>\n",
       "      <td>0.0</td>\n",
       "      <td>0.0</td>\n",
       "      <td>0.0</td>\n",
       "      <td>0.0</td>\n",
       "      <td>0.0</td>\n",
       "      <td>0.0</td>\n",
       "      <td>0.0</td>\n",
       "      <td>0.0</td>\n",
       "      <td>0.0</td>\n",
       "      <td>0.0</td>\n",
       "      <td>0.0</td>\n",
       "      <td>0.0</td>\n",
       "      <td>0.0</td>\n",
       "      <td>0.0</td>\n",
       "      <td>0.0</td>\n",
       "      <td>0.0</td>\n",
       "      <td>0.0</td>\n",
       "      <td>0.0</td>\n",
       "      <td>0.0</td>\n",
       "      <td>0.0</td>\n",
       "      <td>0.0</td>\n",
       "      <td>0.0</td>\n",
       "      <td>0.0</td>\n",
       "      <td>0.0</td>\n",
       "      <td>0.0</td>\n",
       "      <td>0.0</td>\n",
       "      <td>0.0</td>\n",
       "      <td>0.0</td>\n",
       "      <td>0.0</td>\n",
       "      <td>0.0</td>\n",
       "      <td>0.0</td>\n",
       "      <td>0.0</td>\n",
       "      <td>0.0</td>\n",
       "      <td>0.0</td>\n",
       "      <td>0.0</td>\n",
       "      <td>0.0</td>\n",
       "      <td>0.0</td>\n",
       "      <td>0.0</td>\n",
       "    </tr>\n",
       "    <tr>\n",
       "      <th>2</th>\n",
       "      <td>1.000000</td>\n",
       "      <td>0.659459</td>\n",
       "      <td>0.186486</td>\n",
       "      <td>0.070270</td>\n",
       "      <td>0.070270</td>\n",
       "      <td>0.059459</td>\n",
       "      <td>0.056757</td>\n",
       "      <td>0.043243</td>\n",
       "      <td>0.054054</td>\n",
       "      <td>0.045946</td>\n",
       "      <td>0.056757</td>\n",
       "      <td>0.043243</td>\n",
       "      <td>0.067568</td>\n",
       "      <td>0.062162</td>\n",
       "      <td>0.078378</td>\n",
       "      <td>0.072973</td>\n",
       "      <td>0.086486</td>\n",
       "      <td>0.081081</td>\n",
       "      <td>0.108108</td>\n",
       "      <td>0.110811</td>\n",
       "      <td>0.135135</td>\n",
       "      <td>0.135135</td>\n",
       "      <td>0.170270</td>\n",
       "      <td>0.183784</td>\n",
       "      <td>0.216216</td>\n",
       "      <td>0.237838</td>\n",
       "      <td>0.270270</td>\n",
       "      <td>0.286486</td>\n",
       "      <td>0.316216</td>\n",
       "      <td>0.318919</td>\n",
       "      <td>0.332432</td>\n",
       "      <td>0.297297</td>\n",
       "      <td>0.267568</td>\n",
       "      <td>0.216216</td>\n",
       "      <td>0.189189</td>\n",
       "      <td>0.132432</td>\n",
       "      <td>0.118919</td>\n",
       "      <td>0.064865</td>\n",
       "      <td>0.064865</td>\n",
       "      <td>0.043243</td>\n",
       "      <td>...</td>\n",
       "      <td>0.0</td>\n",
       "      <td>0.0</td>\n",
       "      <td>0.0</td>\n",
       "      <td>0.0</td>\n",
       "      <td>0.0</td>\n",
       "      <td>0.0</td>\n",
       "      <td>0.0</td>\n",
       "      <td>0.0</td>\n",
       "      <td>0.0</td>\n",
       "      <td>0.0</td>\n",
       "      <td>0.0</td>\n",
       "      <td>0.0</td>\n",
       "      <td>0.0</td>\n",
       "      <td>0.0</td>\n",
       "      <td>0.0</td>\n",
       "      <td>0.0</td>\n",
       "      <td>0.0</td>\n",
       "      <td>0.0</td>\n",
       "      <td>0.0</td>\n",
       "      <td>0.0</td>\n",
       "      <td>0.0</td>\n",
       "      <td>0.0</td>\n",
       "      <td>0.0</td>\n",
       "      <td>0.0</td>\n",
       "      <td>0.0</td>\n",
       "      <td>0.0</td>\n",
       "      <td>0.0</td>\n",
       "      <td>0.0</td>\n",
       "      <td>0.0</td>\n",
       "      <td>0.0</td>\n",
       "      <td>0.0</td>\n",
       "      <td>0.0</td>\n",
       "      <td>0.0</td>\n",
       "      <td>0.0</td>\n",
       "      <td>0.0</td>\n",
       "      <td>0.0</td>\n",
       "      <td>0.0</td>\n",
       "      <td>0.0</td>\n",
       "      <td>0.0</td>\n",
       "      <td>0.0</td>\n",
       "    </tr>\n",
       "    <tr>\n",
       "      <th>3</th>\n",
       "      <td>0.925414</td>\n",
       "      <td>0.665746</td>\n",
       "      <td>0.541436</td>\n",
       "      <td>0.276243</td>\n",
       "      <td>0.196133</td>\n",
       "      <td>0.077348</td>\n",
       "      <td>0.071823</td>\n",
       "      <td>0.060773</td>\n",
       "      <td>0.066298</td>\n",
       "      <td>0.058011</td>\n",
       "      <td>0.063536</td>\n",
       "      <td>0.082873</td>\n",
       "      <td>0.085635</td>\n",
       "      <td>0.093923</td>\n",
       "      <td>0.113260</td>\n",
       "      <td>0.124309</td>\n",
       "      <td>0.140884</td>\n",
       "      <td>0.132597</td>\n",
       "      <td>0.140884</td>\n",
       "      <td>0.091160</td>\n",
       "      <td>0.085635</td>\n",
       "      <td>0.074586</td>\n",
       "      <td>0.071823</td>\n",
       "      <td>0.080110</td>\n",
       "      <td>0.096685</td>\n",
       "      <td>0.118785</td>\n",
       "      <td>0.138122</td>\n",
       "      <td>0.140884</td>\n",
       "      <td>0.138122</td>\n",
       "      <td>0.146409</td>\n",
       "      <td>0.110497</td>\n",
       "      <td>0.102210</td>\n",
       "      <td>0.060773</td>\n",
       "      <td>0.027624</td>\n",
       "      <td>0.038674</td>\n",
       "      <td>0.013812</td>\n",
       "      <td>0.011050</td>\n",
       "      <td>0.013812</td>\n",
       "      <td>0.033149</td>\n",
       "      <td>0.005525</td>\n",
       "      <td>...</td>\n",
       "      <td>0.0</td>\n",
       "      <td>0.0</td>\n",
       "      <td>0.0</td>\n",
       "      <td>0.0</td>\n",
       "      <td>0.0</td>\n",
       "      <td>0.0</td>\n",
       "      <td>0.0</td>\n",
       "      <td>0.0</td>\n",
       "      <td>0.0</td>\n",
       "      <td>0.0</td>\n",
       "      <td>0.0</td>\n",
       "      <td>0.0</td>\n",
       "      <td>0.0</td>\n",
       "      <td>0.0</td>\n",
       "      <td>0.0</td>\n",
       "      <td>0.0</td>\n",
       "      <td>0.0</td>\n",
       "      <td>0.0</td>\n",
       "      <td>0.0</td>\n",
       "      <td>0.0</td>\n",
       "      <td>0.0</td>\n",
       "      <td>0.0</td>\n",
       "      <td>0.0</td>\n",
       "      <td>0.0</td>\n",
       "      <td>0.0</td>\n",
       "      <td>0.0</td>\n",
       "      <td>0.0</td>\n",
       "      <td>0.0</td>\n",
       "      <td>0.0</td>\n",
       "      <td>0.0</td>\n",
       "      <td>0.0</td>\n",
       "      <td>0.0</td>\n",
       "      <td>0.0</td>\n",
       "      <td>0.0</td>\n",
       "      <td>0.0</td>\n",
       "      <td>0.0</td>\n",
       "      <td>0.0</td>\n",
       "      <td>0.0</td>\n",
       "      <td>0.0</td>\n",
       "      <td>0.0</td>\n",
       "    </tr>\n",
       "    <tr>\n",
       "      <th>4</th>\n",
       "      <td>0.967136</td>\n",
       "      <td>1.000000</td>\n",
       "      <td>0.830986</td>\n",
       "      <td>0.586854</td>\n",
       "      <td>0.356808</td>\n",
       "      <td>0.248826</td>\n",
       "      <td>0.145540</td>\n",
       "      <td>0.089202</td>\n",
       "      <td>0.117371</td>\n",
       "      <td>0.150235</td>\n",
       "      <td>0.131455</td>\n",
       "      <td>0.122066</td>\n",
       "      <td>0.140845</td>\n",
       "      <td>0.159624</td>\n",
       "      <td>0.150235</td>\n",
       "      <td>0.145540</td>\n",
       "      <td>0.136150</td>\n",
       "      <td>0.169014</td>\n",
       "      <td>0.178404</td>\n",
       "      <td>0.173709</td>\n",
       "      <td>0.183099</td>\n",
       "      <td>0.201878</td>\n",
       "      <td>0.187793</td>\n",
       "      <td>0.164319</td>\n",
       "      <td>0.187793</td>\n",
       "      <td>0.215962</td>\n",
       "      <td>0.215962</td>\n",
       "      <td>0.201878</td>\n",
       "      <td>0.211268</td>\n",
       "      <td>0.230047</td>\n",
       "      <td>0.215962</td>\n",
       "      <td>0.230047</td>\n",
       "      <td>0.239437</td>\n",
       "      <td>0.267606</td>\n",
       "      <td>0.253521</td>\n",
       "      <td>0.230047</td>\n",
       "      <td>0.220657</td>\n",
       "      <td>0.225352</td>\n",
       "      <td>0.211268</td>\n",
       "      <td>0.173709</td>\n",
       "      <td>...</td>\n",
       "      <td>0.0</td>\n",
       "      <td>0.0</td>\n",
       "      <td>0.0</td>\n",
       "      <td>0.0</td>\n",
       "      <td>0.0</td>\n",
       "      <td>0.0</td>\n",
       "      <td>0.0</td>\n",
       "      <td>0.0</td>\n",
       "      <td>0.0</td>\n",
       "      <td>0.0</td>\n",
       "      <td>0.0</td>\n",
       "      <td>0.0</td>\n",
       "      <td>0.0</td>\n",
       "      <td>0.0</td>\n",
       "      <td>0.0</td>\n",
       "      <td>0.0</td>\n",
       "      <td>0.0</td>\n",
       "      <td>0.0</td>\n",
       "      <td>0.0</td>\n",
       "      <td>0.0</td>\n",
       "      <td>0.0</td>\n",
       "      <td>0.0</td>\n",
       "      <td>0.0</td>\n",
       "      <td>0.0</td>\n",
       "      <td>0.0</td>\n",
       "      <td>0.0</td>\n",
       "      <td>0.0</td>\n",
       "      <td>0.0</td>\n",
       "      <td>0.0</td>\n",
       "      <td>0.0</td>\n",
       "      <td>0.0</td>\n",
       "      <td>0.0</td>\n",
       "      <td>0.0</td>\n",
       "      <td>0.0</td>\n",
       "      <td>0.0</td>\n",
       "      <td>0.0</td>\n",
       "      <td>0.0</td>\n",
       "      <td>0.0</td>\n",
       "      <td>0.0</td>\n",
       "      <td>0.0</td>\n",
       "    </tr>\n",
       "  </tbody>\n",
       "</table>\n",
       "<p>5 rows × 188 columns</p>\n",
       "</div>\n",
       "      <button class=\"colab-df-convert\" onclick=\"convertToInteractive('df-2cccc4fd-cf41-4aee-ae25-33a0a02b56ee')\"\n",
       "              title=\"Convert this dataframe to an interactive table.\"\n",
       "              style=\"display:none;\">\n",
       "        \n",
       "  <svg xmlns=\"http://www.w3.org/2000/svg\" height=\"24px\"viewBox=\"0 0 24 24\"\n",
       "       width=\"24px\">\n",
       "    <path d=\"M0 0h24v24H0V0z\" fill=\"none\"/>\n",
       "    <path d=\"M18.56 5.44l.94 2.06.94-2.06 2.06-.94-2.06-.94-.94-2.06-.94 2.06-2.06.94zm-11 1L8.5 8.5l.94-2.06 2.06-.94-2.06-.94L8.5 2.5l-.94 2.06-2.06.94zm10 10l.94 2.06.94-2.06 2.06-.94-2.06-.94-.94-2.06-.94 2.06-2.06.94z\"/><path d=\"M17.41 7.96l-1.37-1.37c-.4-.4-.92-.59-1.43-.59-.52 0-1.04.2-1.43.59L10.3 9.45l-7.72 7.72c-.78.78-.78 2.05 0 2.83L4 21.41c.39.39.9.59 1.41.59.51 0 1.02-.2 1.41-.59l7.78-7.78 2.81-2.81c.8-.78.8-2.07 0-2.86zM5.41 20L4 18.59l7.72-7.72 1.47 1.35L5.41 20z\"/>\n",
       "  </svg>\n",
       "      </button>\n",
       "      \n",
       "  <style>\n",
       "    .colab-df-container {\n",
       "      display:flex;\n",
       "      flex-wrap:wrap;\n",
       "      gap: 12px;\n",
       "    }\n",
       "\n",
       "    .colab-df-convert {\n",
       "      background-color: #E8F0FE;\n",
       "      border: none;\n",
       "      border-radius: 50%;\n",
       "      cursor: pointer;\n",
       "      display: none;\n",
       "      fill: #1967D2;\n",
       "      height: 32px;\n",
       "      padding: 0 0 0 0;\n",
       "      width: 32px;\n",
       "    }\n",
       "\n",
       "    .colab-df-convert:hover {\n",
       "      background-color: #E2EBFA;\n",
       "      box-shadow: 0px 1px 2px rgba(60, 64, 67, 0.3), 0px 1px 3px 1px rgba(60, 64, 67, 0.15);\n",
       "      fill: #174EA6;\n",
       "    }\n",
       "\n",
       "    [theme=dark] .colab-df-convert {\n",
       "      background-color: #3B4455;\n",
       "      fill: #D2E3FC;\n",
       "    }\n",
       "\n",
       "    [theme=dark] .colab-df-convert:hover {\n",
       "      background-color: #434B5C;\n",
       "      box-shadow: 0px 1px 3px 1px rgba(0, 0, 0, 0.15);\n",
       "      filter: drop-shadow(0px 1px 2px rgba(0, 0, 0, 0.3));\n",
       "      fill: #FFFFFF;\n",
       "    }\n",
       "  </style>\n",
       "\n",
       "      <script>\n",
       "        const buttonEl =\n",
       "          document.querySelector('#df-2cccc4fd-cf41-4aee-ae25-33a0a02b56ee button.colab-df-convert');\n",
       "        buttonEl.style.display =\n",
       "          google.colab.kernel.accessAllowed ? 'block' : 'none';\n",
       "\n",
       "        async function convertToInteractive(key) {\n",
       "          const element = document.querySelector('#df-2cccc4fd-cf41-4aee-ae25-33a0a02b56ee');\n",
       "          const dataTable =\n",
       "            await google.colab.kernel.invokeFunction('convertToInteractive',\n",
       "                                                     [key], {});\n",
       "          if (!dataTable) return;\n",
       "\n",
       "          const docLinkHtml = 'Like what you see? Visit the ' +\n",
       "            '<a target=\"_blank\" href=https://colab.research.google.com/notebooks/data_table.ipynb>data table notebook</a>'\n",
       "            + ' to learn more about interactive tables.';\n",
       "          element.innerHTML = '';\n",
       "          dataTable['output_type'] = 'display_data';\n",
       "          await google.colab.output.renderOutput(dataTable, element);\n",
       "          const docLink = document.createElement('div');\n",
       "          docLink.innerHTML = docLinkHtml;\n",
       "          element.appendChild(docLink);\n",
       "        }\n",
       "      </script>\n",
       "    </div>\n",
       "  </div>\n",
       "  "
      ],
      "text/plain": [
       "        0         1         2         3         4    ...  183  184  185  186  187\n",
       "0  0.977941  0.926471  0.681373  0.245098  0.154412  ...  0.0  0.0  0.0  0.0  0.0\n",
       "1  0.960114  0.863248  0.461538  0.196581  0.094017  ...  0.0  0.0  0.0  0.0  0.0\n",
       "2  1.000000  0.659459  0.186486  0.070270  0.070270  ...  0.0  0.0  0.0  0.0  0.0\n",
       "3  0.925414  0.665746  0.541436  0.276243  0.196133  ...  0.0  0.0  0.0  0.0  0.0\n",
       "4  0.967136  1.000000  0.830986  0.586854  0.356808  ...  0.0  0.0  0.0  0.0  0.0\n",
       "\n",
       "[5 rows x 188 columns]"
      ]
     },
     "execution_count": 1,
     "metadata": {},
     "output_type": "execute_result"
    }
   ],
   "source": [
    "# import packages\n",
    "import numpy as np\n",
    "import pandas as pd\n",
    "import seaborn as sns\n",
    "import matplotlib.pyplot as plt\n",
    "from sklearn.metrics import classification_report\n",
    "from sklearn.model_selection import train_test_split\n",
    "from sklearn.metrics import f1_score\n",
    "from sklearn.metrics import confusion_matrix\n",
    "from keras.utils.np_utils import to_categorical\n",
    "from sklearn.utils import class_weight\n",
    "import warnings\n",
    "warnings.filterwarnings('ignore')\n",
    "\n",
    "from google.colab import drive\n",
    "\n",
    "drive.mount('/content/drive')\n",
    "\n",
    "# load data\n",
    "train_df=pd.read_csv('/content/drive/MyDrive/FDS Final Project/archive/mitbih_train.csv',header=None)\n",
    "test_df=pd.read_csv('/content/drive/MyDrive/FDS Final Project/archive/mitbih_test.csv',header=None)\n",
    "train_df.head()"
   ]
  },
  {
   "cell_type": "code",
   "execution_count": 2,
   "metadata": {
    "colab": {
     "base_uri": "https://localhost:8080/"
    },
    "executionInfo": {
     "elapsed": 19,
     "status": "ok",
     "timestamp": 1640551997368,
     "user": {
      "displayName": "Saeed Zns",
      "photoUrl": "https://lh3.googleusercontent.com/a-/AOh14GgKQKezT0cfLLvv4RmgAajwnRiO9e4WAtLaJ03qDw=s64",
      "userId": "13970882730426942657"
     },
     "user_tz": -60
    },
    "id": "OntcKeMffuE-",
    "outputId": "c1aaac9b-4df7-4c1e-d6e5-7fa0cdea68bb"
   },
   "outputs": [
    {
     "name": "stdout",
     "output_type": "stream",
     "text": [
      "<class 'pandas.core.frame.DataFrame'>\n",
      "RangeIndex: 87554 entries, 0 to 87553\n",
      "Columns: 188 entries, 0 to 187\n",
      "dtypes: float64(188)\n",
      "memory usage: 125.6 MB\n"
     ]
    }
   ],
   "source": [
    "train_df.info()"
   ]
  },
  {
   "cell_type": "code",
   "execution_count": 3,
   "metadata": {
    "colab": {
     "base_uri": "https://localhost:8080/"
    },
    "executionInfo": {
     "elapsed": 11,
     "status": "ok",
     "timestamp": 1640551997370,
     "user": {
      "displayName": "Saeed Zns",
      "photoUrl": "https://lh3.googleusercontent.com/a-/AOh14GgKQKezT0cfLLvv4RmgAajwnRiO9e4WAtLaJ03qDw=s64",
      "userId": "13970882730426942657"
     },
     "user_tz": -60
    },
    "id": "zX3IqIwUfuE_",
    "outputId": "95c722cb-906a-49f5-b91d-39e257172b94"
   },
   "outputs": [
    {
     "data": {
      "text/plain": [
       "0    72471\n",
       "4     6431\n",
       "2     5788\n",
       "1     2223\n",
       "3      641\n",
       "Name: 187, dtype: int64"
      ]
     },
     "execution_count": 3,
     "metadata": {},
     "output_type": "execute_result"
    }
   ],
   "source": [
    "train_df[187]=train_df[187].astype(int)\n",
    "train_df[187].value_counts()"
   ]
  },
  {
   "cell_type": "markdown",
   "metadata": {
    "id": "QHp4cRJwfuE_"
   },
   "source": [
    "We can see these samples are not balanced here. Most of them are type '0', which is the normal beat. And Fusion Beats are least. So we resample them next, and get a dataset including 100,000 samples where each category has 20,000 samples respectively."
   ]
  },
  {
   "cell_type": "code",
   "execution_count": 4,
   "metadata": {
    "executionInfo": {
     "elapsed": 12,
     "status": "ok",
     "timestamp": 1640551998627,
     "user": {
      "displayName": "Saeed Zns",
      "photoUrl": "https://lh3.googleusercontent.com/a-/AOh14GgKQKezT0cfLLvv4RmgAajwnRiO9e4WAtLaJ03qDw=s64",
      "userId": "13970882730426942657"
     },
     "user_tz": -60
    },
    "id": "u6zIZax-fuE_"
   },
   "outputs": [],
   "source": [
    "from sklearn.utils import resample\n",
    "df_1=train_df[train_df[187]==1]\n",
    "df_2=train_df[train_df[187]==2]\n",
    "df_3=train_df[train_df[187]==3]\n",
    "df_4=train_df[train_df[187]==4]\n",
    "df_0=(train_df[train_df[187]==0]).sample(n=20000,random_state=42)\n",
    "\n",
    "df_1_upsample=resample(df_1,replace=True,n_samples=20000,random_state=123)\n",
    "df_2_upsample=resample(df_2,replace=True,n_samples=20000,random_state=124)\n",
    "df_3_upsample=resample(df_3,replace=True,n_samples=20000,random_state=125)\n",
    "df_4_upsample=resample(df_4,replace=True,n_samples=20000,random_state=126)\n",
    "\n",
    "train_df=pd.concat([df_0,df_1_upsample,df_2_upsample,df_3_upsample,df_4_upsample])"
   ]
  },
  {
   "cell_type": "markdown",
   "metadata": {
    "id": "MmRAJK0wfuE_"
   },
   "source": [
    "To realize different ECG types better, we randomly draw 1 sample from each category to see if there are any difference."
   ]
  },
  {
   "cell_type": "code",
   "execution_count": 5,
   "metadata": {
    "colab": {
     "base_uri": "https://localhost:8080/",
     "height": 299
    },
    "executionInfo": {
     "elapsed": 394,
     "status": "ok",
     "timestamp": 1640552005235,
     "user": {
      "displayName": "Saeed Zns",
      "photoUrl": "https://lh3.googleusercontent.com/a-/AOh14GgKQKezT0cfLLvv4RmgAajwnRiO9e4WAtLaJ03qDw=s64",
      "userId": "13970882730426942657"
     },
     "user_tz": -60
    },
    "id": "w8H2eIf4fuE_",
    "outputId": "9e476804-f64d-4f4f-9414-b859417d91ca",
    "scrolled": true
   },
   "outputs": [
    {
     "data": {
      "text/html": [
       "\n",
       "  <div id=\"df-a3924f25-012f-4c41-a3af-784e1b31ff66\">\n",
       "    <div class=\"colab-df-container\">\n",
       "      <div>\n",
       "<style scoped>\n",
       "    .dataframe tbody tr th:only-of-type {\n",
       "        vertical-align: middle;\n",
       "    }\n",
       "\n",
       "    .dataframe tbody tr th {\n",
       "        vertical-align: top;\n",
       "    }\n",
       "\n",
       "    .dataframe thead th {\n",
       "        text-align: right;\n",
       "    }\n",
       "</style>\n",
       "<table border=\"1\" class=\"dataframe\">\n",
       "  <thead>\n",
       "    <tr style=\"text-align: right;\">\n",
       "      <th></th>\n",
       "      <th>0</th>\n",
       "      <th>1</th>\n",
       "      <th>2</th>\n",
       "      <th>3</th>\n",
       "      <th>4</th>\n",
       "      <th>5</th>\n",
       "      <th>6</th>\n",
       "      <th>7</th>\n",
       "      <th>8</th>\n",
       "      <th>9</th>\n",
       "      <th>10</th>\n",
       "      <th>11</th>\n",
       "      <th>12</th>\n",
       "      <th>13</th>\n",
       "      <th>14</th>\n",
       "      <th>15</th>\n",
       "      <th>16</th>\n",
       "      <th>17</th>\n",
       "      <th>18</th>\n",
       "      <th>19</th>\n",
       "      <th>20</th>\n",
       "      <th>21</th>\n",
       "      <th>22</th>\n",
       "      <th>23</th>\n",
       "      <th>24</th>\n",
       "      <th>25</th>\n",
       "      <th>26</th>\n",
       "      <th>27</th>\n",
       "      <th>28</th>\n",
       "      <th>29</th>\n",
       "      <th>30</th>\n",
       "      <th>31</th>\n",
       "      <th>32</th>\n",
       "      <th>33</th>\n",
       "      <th>34</th>\n",
       "      <th>35</th>\n",
       "      <th>36</th>\n",
       "      <th>37</th>\n",
       "      <th>38</th>\n",
       "      <th>39</th>\n",
       "      <th>...</th>\n",
       "      <th>148</th>\n",
       "      <th>149</th>\n",
       "      <th>150</th>\n",
       "      <th>151</th>\n",
       "      <th>152</th>\n",
       "      <th>153</th>\n",
       "      <th>154</th>\n",
       "      <th>155</th>\n",
       "      <th>156</th>\n",
       "      <th>157</th>\n",
       "      <th>158</th>\n",
       "      <th>159</th>\n",
       "      <th>160</th>\n",
       "      <th>161</th>\n",
       "      <th>162</th>\n",
       "      <th>163</th>\n",
       "      <th>164</th>\n",
       "      <th>165</th>\n",
       "      <th>166</th>\n",
       "      <th>167</th>\n",
       "      <th>168</th>\n",
       "      <th>169</th>\n",
       "      <th>170</th>\n",
       "      <th>171</th>\n",
       "      <th>172</th>\n",
       "      <th>173</th>\n",
       "      <th>174</th>\n",
       "      <th>175</th>\n",
       "      <th>176</th>\n",
       "      <th>177</th>\n",
       "      <th>178</th>\n",
       "      <th>179</th>\n",
       "      <th>180</th>\n",
       "      <th>181</th>\n",
       "      <th>182</th>\n",
       "      <th>183</th>\n",
       "      <th>184</th>\n",
       "      <th>185</th>\n",
       "      <th>186</th>\n",
       "      <th>187</th>\n",
       "    </tr>\n",
       "  </thead>\n",
       "  <tbody>\n",
       "    <tr>\n",
       "      <th>23200</th>\n",
       "      <td>0.938650</td>\n",
       "      <td>0.926380</td>\n",
       "      <td>0.472393</td>\n",
       "      <td>0.092025</td>\n",
       "      <td>0.073620</td>\n",
       "      <td>0.095092</td>\n",
       "      <td>0.058282</td>\n",
       "      <td>0.055215</td>\n",
       "      <td>0.033742</td>\n",
       "      <td>0.046012</td>\n",
       "      <td>0.033742</td>\n",
       "      <td>0.052147</td>\n",
       "      <td>0.024540</td>\n",
       "      <td>0.033742</td>\n",
       "      <td>0.006135</td>\n",
       "      <td>0.027607</td>\n",
       "      <td>0.009202</td>\n",
       "      <td>0.036810</td>\n",
       "      <td>0.024540</td>\n",
       "      <td>0.042945</td>\n",
       "      <td>0.033742</td>\n",
       "      <td>0.046012</td>\n",
       "      <td>0.058282</td>\n",
       "      <td>0.092025</td>\n",
       "      <td>0.098160</td>\n",
       "      <td>0.128834</td>\n",
       "      <td>0.119632</td>\n",
       "      <td>0.156442</td>\n",
       "      <td>0.147239</td>\n",
       "      <td>0.177914</td>\n",
       "      <td>0.174847</td>\n",
       "      <td>0.190184</td>\n",
       "      <td>0.180982</td>\n",
       "      <td>0.187117</td>\n",
       "      <td>0.193252</td>\n",
       "      <td>0.199387</td>\n",
       "      <td>0.187117</td>\n",
       "      <td>0.184049</td>\n",
       "      <td>0.165644</td>\n",
       "      <td>0.156442</td>\n",
       "      <td>...</td>\n",
       "      <td>0.0</td>\n",
       "      <td>0.0</td>\n",
       "      <td>0.0</td>\n",
       "      <td>0.0</td>\n",
       "      <td>0.0</td>\n",
       "      <td>0.0</td>\n",
       "      <td>0.0</td>\n",
       "      <td>0.0</td>\n",
       "      <td>0.0</td>\n",
       "      <td>0.0</td>\n",
       "      <td>0.0</td>\n",
       "      <td>0.0</td>\n",
       "      <td>0.0</td>\n",
       "      <td>0.0</td>\n",
       "      <td>0.0</td>\n",
       "      <td>0.0</td>\n",
       "      <td>0.0</td>\n",
       "      <td>0.0</td>\n",
       "      <td>0.0</td>\n",
       "      <td>0.0</td>\n",
       "      <td>0.0</td>\n",
       "      <td>0.0</td>\n",
       "      <td>0.0</td>\n",
       "      <td>0.0</td>\n",
       "      <td>0.0</td>\n",
       "      <td>0.0</td>\n",
       "      <td>0.0</td>\n",
       "      <td>0.0</td>\n",
       "      <td>0.0</td>\n",
       "      <td>0.0</td>\n",
       "      <td>0.0</td>\n",
       "      <td>0.0</td>\n",
       "      <td>0.0</td>\n",
       "      <td>0.0</td>\n",
       "      <td>0.0</td>\n",
       "      <td>0.0</td>\n",
       "      <td>0.0</td>\n",
       "      <td>0.0</td>\n",
       "      <td>0.0</td>\n",
       "      <td>0</td>\n",
       "    </tr>\n",
       "    <tr>\n",
       "      <th>73743</th>\n",
       "      <td>0.971193</td>\n",
       "      <td>0.868313</td>\n",
       "      <td>0.193416</td>\n",
       "      <td>0.000000</td>\n",
       "      <td>0.090535</td>\n",
       "      <td>0.176955</td>\n",
       "      <td>0.164609</td>\n",
       "      <td>0.209877</td>\n",
       "      <td>0.263374</td>\n",
       "      <td>0.234568</td>\n",
       "      <td>0.226337</td>\n",
       "      <td>0.255144</td>\n",
       "      <td>0.312757</td>\n",
       "      <td>0.349794</td>\n",
       "      <td>0.358025</td>\n",
       "      <td>0.353909</td>\n",
       "      <td>0.358025</td>\n",
       "      <td>0.366255</td>\n",
       "      <td>0.349794</td>\n",
       "      <td>0.333333</td>\n",
       "      <td>0.353909</td>\n",
       "      <td>0.374486</td>\n",
       "      <td>0.370370</td>\n",
       "      <td>0.370370</td>\n",
       "      <td>0.370370</td>\n",
       "      <td>0.403292</td>\n",
       "      <td>0.407407</td>\n",
       "      <td>0.399177</td>\n",
       "      <td>0.432099</td>\n",
       "      <td>0.465021</td>\n",
       "      <td>0.485597</td>\n",
       "      <td>0.506173</td>\n",
       "      <td>0.539095</td>\n",
       "      <td>0.567901</td>\n",
       "      <td>0.584362</td>\n",
       "      <td>0.576132</td>\n",
       "      <td>0.592593</td>\n",
       "      <td>0.617284</td>\n",
       "      <td>0.580247</td>\n",
       "      <td>0.530864</td>\n",
       "      <td>...</td>\n",
       "      <td>0.0</td>\n",
       "      <td>0.0</td>\n",
       "      <td>0.0</td>\n",
       "      <td>0.0</td>\n",
       "      <td>0.0</td>\n",
       "      <td>0.0</td>\n",
       "      <td>0.0</td>\n",
       "      <td>0.0</td>\n",
       "      <td>0.0</td>\n",
       "      <td>0.0</td>\n",
       "      <td>0.0</td>\n",
       "      <td>0.0</td>\n",
       "      <td>0.0</td>\n",
       "      <td>0.0</td>\n",
       "      <td>0.0</td>\n",
       "      <td>0.0</td>\n",
       "      <td>0.0</td>\n",
       "      <td>0.0</td>\n",
       "      <td>0.0</td>\n",
       "      <td>0.0</td>\n",
       "      <td>0.0</td>\n",
       "      <td>0.0</td>\n",
       "      <td>0.0</td>\n",
       "      <td>0.0</td>\n",
       "      <td>0.0</td>\n",
       "      <td>0.0</td>\n",
       "      <td>0.0</td>\n",
       "      <td>0.0</td>\n",
       "      <td>0.0</td>\n",
       "      <td>0.0</td>\n",
       "      <td>0.0</td>\n",
       "      <td>0.0</td>\n",
       "      <td>0.0</td>\n",
       "      <td>0.0</td>\n",
       "      <td>0.0</td>\n",
       "      <td>0.0</td>\n",
       "      <td>0.0</td>\n",
       "      <td>0.0</td>\n",
       "      <td>0.0</td>\n",
       "      <td>1</td>\n",
       "    </tr>\n",
       "    <tr>\n",
       "      <th>78899</th>\n",
       "      <td>0.283688</td>\n",
       "      <td>0.393617</td>\n",
       "      <td>0.457447</td>\n",
       "      <td>0.554965</td>\n",
       "      <td>0.661348</td>\n",
       "      <td>0.677305</td>\n",
       "      <td>0.671986</td>\n",
       "      <td>0.671986</td>\n",
       "      <td>0.680851</td>\n",
       "      <td>0.680851</td>\n",
       "      <td>0.684397</td>\n",
       "      <td>0.677305</td>\n",
       "      <td>0.682624</td>\n",
       "      <td>0.686170</td>\n",
       "      <td>0.700355</td>\n",
       "      <td>0.700355</td>\n",
       "      <td>0.691489</td>\n",
       "      <td>0.698582</td>\n",
       "      <td>0.712766</td>\n",
       "      <td>0.710993</td>\n",
       "      <td>0.707447</td>\n",
       "      <td>0.725177</td>\n",
       "      <td>0.746454</td>\n",
       "      <td>0.753546</td>\n",
       "      <td>0.760638</td>\n",
       "      <td>0.778369</td>\n",
       "      <td>0.781915</td>\n",
       "      <td>0.776596</td>\n",
       "      <td>0.765957</td>\n",
       "      <td>0.773050</td>\n",
       "      <td>0.753546</td>\n",
       "      <td>0.739362</td>\n",
       "      <td>0.730496</td>\n",
       "      <td>0.728723</td>\n",
       "      <td>0.721631</td>\n",
       "      <td>0.718085</td>\n",
       "      <td>0.725177</td>\n",
       "      <td>0.732270</td>\n",
       "      <td>0.742908</td>\n",
       "      <td>0.753546</td>\n",
       "      <td>...</td>\n",
       "      <td>0.0</td>\n",
       "      <td>0.0</td>\n",
       "      <td>0.0</td>\n",
       "      <td>0.0</td>\n",
       "      <td>0.0</td>\n",
       "      <td>0.0</td>\n",
       "      <td>0.0</td>\n",
       "      <td>0.0</td>\n",
       "      <td>0.0</td>\n",
       "      <td>0.0</td>\n",
       "      <td>0.0</td>\n",
       "      <td>0.0</td>\n",
       "      <td>0.0</td>\n",
       "      <td>0.0</td>\n",
       "      <td>0.0</td>\n",
       "      <td>0.0</td>\n",
       "      <td>0.0</td>\n",
       "      <td>0.0</td>\n",
       "      <td>0.0</td>\n",
       "      <td>0.0</td>\n",
       "      <td>0.0</td>\n",
       "      <td>0.0</td>\n",
       "      <td>0.0</td>\n",
       "      <td>0.0</td>\n",
       "      <td>0.0</td>\n",
       "      <td>0.0</td>\n",
       "      <td>0.0</td>\n",
       "      <td>0.0</td>\n",
       "      <td>0.0</td>\n",
       "      <td>0.0</td>\n",
       "      <td>0.0</td>\n",
       "      <td>0.0</td>\n",
       "      <td>0.0</td>\n",
       "      <td>0.0</td>\n",
       "      <td>0.0</td>\n",
       "      <td>0.0</td>\n",
       "      <td>0.0</td>\n",
       "      <td>0.0</td>\n",
       "      <td>0.0</td>\n",
       "      <td>2</td>\n",
       "    </tr>\n",
       "    <tr>\n",
       "      <th>80570</th>\n",
       "      <td>1.000000</td>\n",
       "      <td>0.875502</td>\n",
       "      <td>0.453815</td>\n",
       "      <td>0.273092</td>\n",
       "      <td>0.224900</td>\n",
       "      <td>0.208835</td>\n",
       "      <td>0.186747</td>\n",
       "      <td>0.204819</td>\n",
       "      <td>0.180723</td>\n",
       "      <td>0.180723</td>\n",
       "      <td>0.182731</td>\n",
       "      <td>0.192771</td>\n",
       "      <td>0.176707</td>\n",
       "      <td>0.188755</td>\n",
       "      <td>0.186747</td>\n",
       "      <td>0.198795</td>\n",
       "      <td>0.182731</td>\n",
       "      <td>0.192771</td>\n",
       "      <td>0.194779</td>\n",
       "      <td>0.214859</td>\n",
       "      <td>0.192771</td>\n",
       "      <td>0.224900</td>\n",
       "      <td>0.210843</td>\n",
       "      <td>0.238956</td>\n",
       "      <td>0.228916</td>\n",
       "      <td>0.251004</td>\n",
       "      <td>0.244980</td>\n",
       "      <td>0.257028</td>\n",
       "      <td>0.253012</td>\n",
       "      <td>0.279116</td>\n",
       "      <td>0.267068</td>\n",
       "      <td>0.257028</td>\n",
       "      <td>0.236948</td>\n",
       "      <td>0.232932</td>\n",
       "      <td>0.214859</td>\n",
       "      <td>0.210843</td>\n",
       "      <td>0.206827</td>\n",
       "      <td>0.188755</td>\n",
       "      <td>0.188755</td>\n",
       "      <td>0.190763</td>\n",
       "      <td>...</td>\n",
       "      <td>0.0</td>\n",
       "      <td>0.0</td>\n",
       "      <td>0.0</td>\n",
       "      <td>0.0</td>\n",
       "      <td>0.0</td>\n",
       "      <td>0.0</td>\n",
       "      <td>0.0</td>\n",
       "      <td>0.0</td>\n",
       "      <td>0.0</td>\n",
       "      <td>0.0</td>\n",
       "      <td>0.0</td>\n",
       "      <td>0.0</td>\n",
       "      <td>0.0</td>\n",
       "      <td>0.0</td>\n",
       "      <td>0.0</td>\n",
       "      <td>0.0</td>\n",
       "      <td>0.0</td>\n",
       "      <td>0.0</td>\n",
       "      <td>0.0</td>\n",
       "      <td>0.0</td>\n",
       "      <td>0.0</td>\n",
       "      <td>0.0</td>\n",
       "      <td>0.0</td>\n",
       "      <td>0.0</td>\n",
       "      <td>0.0</td>\n",
       "      <td>0.0</td>\n",
       "      <td>0.0</td>\n",
       "      <td>0.0</td>\n",
       "      <td>0.0</td>\n",
       "      <td>0.0</td>\n",
       "      <td>0.0</td>\n",
       "      <td>0.0</td>\n",
       "      <td>0.0</td>\n",
       "      <td>0.0</td>\n",
       "      <td>0.0</td>\n",
       "      <td>0.0</td>\n",
       "      <td>0.0</td>\n",
       "      <td>0.0</td>\n",
       "      <td>0.0</td>\n",
       "      <td>3</td>\n",
       "    </tr>\n",
       "    <tr>\n",
       "      <th>82687</th>\n",
       "      <td>1.000000</td>\n",
       "      <td>0.634568</td>\n",
       "      <td>0.402469</td>\n",
       "      <td>0.195062</td>\n",
       "      <td>0.118519</td>\n",
       "      <td>0.091358</td>\n",
       "      <td>0.103704</td>\n",
       "      <td>0.096296</td>\n",
       "      <td>0.108642</td>\n",
       "      <td>0.093827</td>\n",
       "      <td>0.093827</td>\n",
       "      <td>0.081481</td>\n",
       "      <td>0.091358</td>\n",
       "      <td>0.074074</td>\n",
       "      <td>0.076543</td>\n",
       "      <td>0.064198</td>\n",
       "      <td>0.064198</td>\n",
       "      <td>0.056790</td>\n",
       "      <td>0.061728</td>\n",
       "      <td>0.046914</td>\n",
       "      <td>0.051852</td>\n",
       "      <td>0.037037</td>\n",
       "      <td>0.039506</td>\n",
       "      <td>0.024691</td>\n",
       "      <td>0.024691</td>\n",
       "      <td>0.012346</td>\n",
       "      <td>0.012346</td>\n",
       "      <td>0.002469</td>\n",
       "      <td>0.012346</td>\n",
       "      <td>0.000000</td>\n",
       "      <td>0.009877</td>\n",
       "      <td>0.000000</td>\n",
       "      <td>0.007407</td>\n",
       "      <td>0.002469</td>\n",
       "      <td>0.014815</td>\n",
       "      <td>0.014815</td>\n",
       "      <td>0.032099</td>\n",
       "      <td>0.034568</td>\n",
       "      <td>0.054321</td>\n",
       "      <td>0.054321</td>\n",
       "      <td>...</td>\n",
       "      <td>0.0</td>\n",
       "      <td>0.0</td>\n",
       "      <td>0.0</td>\n",
       "      <td>0.0</td>\n",
       "      <td>0.0</td>\n",
       "      <td>0.0</td>\n",
       "      <td>0.0</td>\n",
       "      <td>0.0</td>\n",
       "      <td>0.0</td>\n",
       "      <td>0.0</td>\n",
       "      <td>0.0</td>\n",
       "      <td>0.0</td>\n",
       "      <td>0.0</td>\n",
       "      <td>0.0</td>\n",
       "      <td>0.0</td>\n",
       "      <td>0.0</td>\n",
       "      <td>0.0</td>\n",
       "      <td>0.0</td>\n",
       "      <td>0.0</td>\n",
       "      <td>0.0</td>\n",
       "      <td>0.0</td>\n",
       "      <td>0.0</td>\n",
       "      <td>0.0</td>\n",
       "      <td>0.0</td>\n",
       "      <td>0.0</td>\n",
       "      <td>0.0</td>\n",
       "      <td>0.0</td>\n",
       "      <td>0.0</td>\n",
       "      <td>0.0</td>\n",
       "      <td>0.0</td>\n",
       "      <td>0.0</td>\n",
       "      <td>0.0</td>\n",
       "      <td>0.0</td>\n",
       "      <td>0.0</td>\n",
       "      <td>0.0</td>\n",
       "      <td>0.0</td>\n",
       "      <td>0.0</td>\n",
       "      <td>0.0</td>\n",
       "      <td>0.0</td>\n",
       "      <td>4</td>\n",
       "    </tr>\n",
       "  </tbody>\n",
       "</table>\n",
       "<p>5 rows × 188 columns</p>\n",
       "</div>\n",
       "      <button class=\"colab-df-convert\" onclick=\"convertToInteractive('df-a3924f25-012f-4c41-a3af-784e1b31ff66')\"\n",
       "              title=\"Convert this dataframe to an interactive table.\"\n",
       "              style=\"display:none;\">\n",
       "        \n",
       "  <svg xmlns=\"http://www.w3.org/2000/svg\" height=\"24px\"viewBox=\"0 0 24 24\"\n",
       "       width=\"24px\">\n",
       "    <path d=\"M0 0h24v24H0V0z\" fill=\"none\"/>\n",
       "    <path d=\"M18.56 5.44l.94 2.06.94-2.06 2.06-.94-2.06-.94-.94-2.06-.94 2.06-2.06.94zm-11 1L8.5 8.5l.94-2.06 2.06-.94-2.06-.94L8.5 2.5l-.94 2.06-2.06.94zm10 10l.94 2.06.94-2.06 2.06-.94-2.06-.94-.94-2.06-.94 2.06-2.06.94z\"/><path d=\"M17.41 7.96l-1.37-1.37c-.4-.4-.92-.59-1.43-.59-.52 0-1.04.2-1.43.59L10.3 9.45l-7.72 7.72c-.78.78-.78 2.05 0 2.83L4 21.41c.39.39.9.59 1.41.59.51 0 1.02-.2 1.41-.59l7.78-7.78 2.81-2.81c.8-.78.8-2.07 0-2.86zM5.41 20L4 18.59l7.72-7.72 1.47 1.35L5.41 20z\"/>\n",
       "  </svg>\n",
       "      </button>\n",
       "      \n",
       "  <style>\n",
       "    .colab-df-container {\n",
       "      display:flex;\n",
       "      flex-wrap:wrap;\n",
       "      gap: 12px;\n",
       "    }\n",
       "\n",
       "    .colab-df-convert {\n",
       "      background-color: #E8F0FE;\n",
       "      border: none;\n",
       "      border-radius: 50%;\n",
       "      cursor: pointer;\n",
       "      display: none;\n",
       "      fill: #1967D2;\n",
       "      height: 32px;\n",
       "      padding: 0 0 0 0;\n",
       "      width: 32px;\n",
       "    }\n",
       "\n",
       "    .colab-df-convert:hover {\n",
       "      background-color: #E2EBFA;\n",
       "      box-shadow: 0px 1px 2px rgba(60, 64, 67, 0.3), 0px 1px 3px 1px rgba(60, 64, 67, 0.15);\n",
       "      fill: #174EA6;\n",
       "    }\n",
       "\n",
       "    [theme=dark] .colab-df-convert {\n",
       "      background-color: #3B4455;\n",
       "      fill: #D2E3FC;\n",
       "    }\n",
       "\n",
       "    [theme=dark] .colab-df-convert:hover {\n",
       "      background-color: #434B5C;\n",
       "      box-shadow: 0px 1px 3px 1px rgba(0, 0, 0, 0.15);\n",
       "      filter: drop-shadow(0px 1px 2px rgba(0, 0, 0, 0.3));\n",
       "      fill: #FFFFFF;\n",
       "    }\n",
       "  </style>\n",
       "\n",
       "      <script>\n",
       "        const buttonEl =\n",
       "          document.querySelector('#df-a3924f25-012f-4c41-a3af-784e1b31ff66 button.colab-df-convert');\n",
       "        buttonEl.style.display =\n",
       "          google.colab.kernel.accessAllowed ? 'block' : 'none';\n",
       "\n",
       "        async function convertToInteractive(key) {\n",
       "          const element = document.querySelector('#df-a3924f25-012f-4c41-a3af-784e1b31ff66');\n",
       "          const dataTable =\n",
       "            await google.colab.kernel.invokeFunction('convertToInteractive',\n",
       "                                                     [key], {});\n",
       "          if (!dataTable) return;\n",
       "\n",
       "          const docLinkHtml = 'Like what you see? Visit the ' +\n",
       "            '<a target=\"_blank\" href=https://colab.research.google.com/notebooks/data_table.ipynb>data table notebook</a>'\n",
       "            + ' to learn more about interactive tables.';\n",
       "          element.innerHTML = '';\n",
       "          dataTable['output_type'] = 'display_data';\n",
       "          await google.colab.output.renderOutput(dataTable, element);\n",
       "          const docLink = document.createElement('div');\n",
       "          docLink.innerHTML = docLinkHtml;\n",
       "          element.appendChild(docLink);\n",
       "        }\n",
       "      </script>\n",
       "    </div>\n",
       "  </div>\n",
       "  "
      ],
      "text/plain": [
       "            0         1         2         3    ...  184  185  186  187\n",
       "23200  0.938650  0.926380  0.472393  0.092025  ...  0.0  0.0  0.0    0\n",
       "73743  0.971193  0.868313  0.193416  0.000000  ...  0.0  0.0  0.0    1\n",
       "78899  0.283688  0.393617  0.457447  0.554965  ...  0.0  0.0  0.0    2\n",
       "80570  1.000000  0.875502  0.453815  0.273092  ...  0.0  0.0  0.0    3\n",
       "82687  1.000000  0.634568  0.402469  0.195062  ...  0.0  0.0  0.0    4\n",
       "\n",
       "[5 rows x 188 columns]"
      ]
     },
     "execution_count": 5,
     "metadata": {},
     "output_type": "execute_result"
    }
   ],
   "source": [
    "c=train_df.groupby(187,group_keys=False).apply(lambda train_df : train_df.sample(1))\n",
    "c"
   ]
  },
  {
   "cell_type": "markdown",
   "metadata": {
    "id": "4AQMezktfuFA"
   },
   "source": [
    "let's draw a plot of the normal beat, which is type '0' here."
   ]
  },
  {
   "cell_type": "code",
   "execution_count": 6,
   "metadata": {
    "colab": {
     "base_uri": "https://localhost:8080/",
     "height": 282
    },
    "executionInfo": {
     "elapsed": 429,
     "status": "ok",
     "timestamp": 1640552011318,
     "user": {
      "displayName": "Saeed Zns",
      "photoUrl": "https://lh3.googleusercontent.com/a-/AOh14GgKQKezT0cfLLvv4RmgAajwnRiO9e4WAtLaJ03qDw=s64",
      "userId": "13970882730426942657"
     },
     "user_tz": -60
    },
    "id": "y39vD0bwfuFA",
    "outputId": "9e9f460f-4823-45d2-9bb6-7a4af9fea943"
   },
   "outputs": [
    {
     "data": {
      "text/plain": [
       "[<matplotlib.lines.Line2D at 0x7f627f222b90>]"
      ]
     },
     "execution_count": 6,
     "metadata": {},
     "output_type": "execute_result"
    },
    {
     "data": {
      "image/png": "[encoded data removed]",
      "text/plain": [
       "<Figure size 432x288 with 1 Axes>"
      ]
     },
     "metadata": {
      "needs_background": "light"
     },
     "output_type": "display_data"
    }
   ],
   "source": [
    "plt.plot(c.iloc[0,:186])\n"
   ]
  },
  {
   "cell_type": "markdown",
   "metadata": {
    "id": "J_VxViYqfuFA"
   },
   "source": [
    "Then we draw the other 4 types ECG which are abnormal below."
   ]
  },
  {
   "cell_type": "code",
   "execution_count": 7,
   "metadata": {
    "colab": {
     "base_uri": "https://localhost:8080/",
     "height": 610
    },
    "executionInfo": {
     "elapsed": 1468,
     "status": "ok",
     "timestamp": 1640552023712,
     "user": {
      "displayName": "Saeed Zns",
      "photoUrl": "https://lh3.googleusercontent.com/a-/AOh14GgKQKezT0cfLLvv4RmgAajwnRiO9e4WAtLaJ03qDw=s64",
      "userId": "13970882730426942657"
     },
     "user_tz": -60
    },
    "id": "_5R3yo1hfuFA",
    "outputId": "65d2e11d-473f-4eed-d10b-9d220e402029"
   },
   "outputs": [
    {
     "data": {
      "text/plain": [
       "[<matplotlib.lines.Line2D at 0x7f627e159e90>]"
      ]
     },
     "execution_count": 7,
     "metadata": {},
     "output_type": "execute_result"
    },
    {
     "data": {
      "image/png": "[encoded data removed]",
      "text/plain": [
       "<Figure size 1080x720 with 4 Axes>"
      ]
     },
     "metadata": {
      "needs_background": "light"
     },
     "output_type": "display_data"
    }
   ],
   "source": [
    "f, axes = plt.subplots(2, 2, sharex=False, sharey=False) \n",
    "f.set_figheight(10)\n",
    "f.set_figwidth(15)\n",
    "axes[0,0].plot(c.iloc[1,:186])\n",
    "axes[0,1].plot(c.iloc[2,:186])\n",
    "axes[1,0].plot(c.iloc[3,:186])\n",
    "axes[1,1].plot(c.iloc[4,:186])"
   ]
  },
  {
   "cell_type": "markdown",
   "metadata": {
    "id": "eGN5-N11fuFA"
   },
   "source": [
    "Since we are not experts in this field, we surfed the internet and found some pictures that helped us to have a glimpse over the ECG images.\n",
    "![Fusion_beats.gif](attachment:Fusion_beats.gif)\n",
    "\n"
   ]
  },
  {
   "cell_type": "markdown",
   "metadata": {
    "id": "thsSf5FmfuFA"
   },
   "source": [
    "![svt_vs_vt.jpeg](attachment:svt_vs_vt.jpeg)"
   ]
  },
  {
   "cell_type": "markdown",
   "metadata": {
    "id": "3WMfMBB5fuFB"
   },
   "source": [
    "you can see there are some similarities between these pictures and our plots."
   ]
  },
  {
   "cell_type": "markdown",
   "metadata": {
    "id": "90b-ZWOwfuFB"
   },
   "source": [
    "### Modeling"
   ]
  },
  {
   "cell_type": "code",
   "execution_count": 8,
   "metadata": {
    "executionInfo": {
     "elapsed": 8,
     "status": "ok",
     "timestamp": 1640552062907,
     "user": {
      "displayName": "Saeed Zns",
      "photoUrl": "https://lh3.googleusercontent.com/a-/AOh14GgKQKezT0cfLLvv4RmgAajwnRiO9e4WAtLaJ03qDw=s64",
      "userId": "13970882730426942657"
     },
     "user_tz": -60
    },
    "id": "zfoC0xcKfuFB"
   },
   "outputs": [],
   "source": [
    "target_train=train_df[187]\n",
    "target_test=test_df[187]\n",
    "y_train=to_categorical(target_train)\n",
    "y_test=to_categorical(target_test)\n",
    "X_train=train_df.iloc[:,:186].values\n",
    "X_test=test_df.iloc[:,:186].values\n",
    "X_train = X_train.reshape(len(X_train), X_train.shape[1],1)\n",
    "X_test = X_test.reshape(len(X_test), X_test.shape[1],1)"
   ]
  },
  {
   "cell_type": "markdown",
   "metadata": {
    "id": "jqH4lHkmfuFB"
   },
   "source": [
    "Since our data is a representation of signal images we decided to use CNN rather RNN. Because it works better for these kind of datasets.\n",
    "Now that we have the data loaded into memory ready for modeling, we can define, fit, and evaluate a 1D CNN model. We can define a function named network() that takes the train and test dataset, fits a model on the training dataset, evaluates it on the test dataset, and returns an estimate of the models performance.\n",
    "\n",
    "First, we must define the CNN model using the Keras deep learning library. The output for the model will be a number from 0 to 4 which assigne each input to on of our five categories.\n",
    "\n",
    "These input and output dimensions are required when fitting the model, and we can extract them from the provided training dataset. The model is defined as a Sequential Keras model, for simplicity.\n",
    "\n",
    "We will define the model as having three 1D CNN layers, followed by the flatten layer. Then we use 3 layer dense.\n",
    "The last layer with 5 nodes is our output.\n",
    "\n",
    "\n",
    "***Note: These days, better performance is achieved using the ReLU activation function***\n",
    "\n",
    "\n",
    "CNNs learn very quickly. After CNN layer we use \n",
    "Batch normalization which applies a transformation that maintains the mean output close to 0 and the output standard deviation close to 1. Then we use MaxPool. MaxPool is used for downsampling the input representation by taking the maximum value over a spatial window of size pool_size. The window is shifted by strides. Since we used \"same\" padding option the resulting output shape is = input_shape / strides\n",
    "\n",
    "After the CNN, Normalization, and MaxPool, the learned features are flattened to one long vector and pass through a fully connected layers before the output layer used to make a prediction. The fully connected layers ideally provides a buffer between the learned features and the output with the intent of interpreting the learned features before making a prediction.So, we used 3 layers with 64, 32, 5 nodes. Since we want to classify the data into 5 categories, we used softmax activation function.\n",
    "\n",
    "For this model, we used adam optimizer and categorical cross entropy. Also, we used EarlyStopping to monitor loss value so we may see that sometimes the process will interupt before the 20th epoch.\n",
    "\n",
    "Once the model is fit, it is evaluated on the test dataset and the accuracy of the fit model on the test dataset is returned.\n",
    "int"
   ]
  },
  {
   "cell_type": "code",
   "execution_count": 13,
   "metadata": {
    "executionInfo": {
     "elapsed": 793,
     "status": "ok",
     "timestamp": 1640552335173,
     "user": {
      "displayName": "Saeed Zns",
      "photoUrl": "https://lh3.googleusercontent.com/a-/AOh14GgKQKezT0cfLLvv4RmgAajwnRiO9e4WAtLaJ03qDw=s64",
      "userId": "13970882730426942657"
     },
     "user_tz": -60
    },
    "id": "GKgmTxQXfuFB"
   },
   "outputs": [],
   "source": [
    "def network(X_train,y_train,X_test,y_test):\n",
    "    \n",
    "\n",
    "    im_shape=(X_train.shape[1],1)\n",
    "    inputs_cnn=Input(shape=(im_shape), name='inputs_cnn')\n",
    "    conv1_1=Convolution1D(64, (6), activation='relu', input_shape=im_shape)(inputs_cnn)\n",
    "    conv1_1=BatchNormalization()(conv1_1)\n",
    "    pool1=MaxPool1D(pool_size=(3), strides=(2), padding=\"same\")(conv1_1)\n",
    "    conv2_1=Convolution1D(64, (3), activation='relu', input_shape=im_shape)(pool1)\n",
    "    conv2_1=BatchNormalization()(conv2_1)\n",
    "    pool2=MaxPool1D(pool_size=(2), strides=(2), padding=\"same\")(conv2_1)\n",
    "    conv3_1=Convolution1D(64, (3), activation='relu', input_shape=im_shape)(pool2)\n",
    "    conv3_1=BatchNormalization()(conv3_1)\n",
    "    pool3=MaxPool1D(pool_size=(2), strides=(2), padding=\"same\")(conv3_1)\n",
    "    flatten=Flatten()(pool3)\n",
    "    dense_end1 = Dense(64, activation='relu')(flatten)\n",
    "    dense_end2 = Dense(32, activation='relu')(dense_end1)\n",
    "    main_output = Dense(5, activation='softmax', name='main_output')(dense_end2)\n",
    "    \n",
    "    \n",
    "    model = Model(inputs= inputs_cnn, outputs=main_output)\n",
    "    model.compile(optimizer='adam', loss='categorical_crossentropy',metrics = ['accuracy'])\n",
    "    \n",
    "    \n",
    "    callbacks = [EarlyStopping(monitor='val_loss', patience=8),\n",
    "             ModelCheckpoint(filepath='/content/drive/MyDrive/FDS Final Project/Checkpoints/best_model.h5', monitor='val_loss', save_best_only=True)]\n",
    "\n",
    "    history=model.fit(X_train, y_train,epochs=epoch,callbacks=callbacks, batch_size=batch,validation_data=(X_test,y_test))\n",
    "    model.load_weights('/content/drive/MyDrive/FDS Final Project/Checkpoints/best_model.h5')\n",
    "    return(model,history)"
   ]
  },
  {
   "cell_type": "code",
   "execution_count": 14,
   "metadata": {
    "colab": {
     "base_uri": "https://localhost:8080/"
    },
    "executionInfo": {
     "elapsed": 1347614,
     "status": "ok",
     "timestamp": 1640553687282,
     "user": {
      "displayName": "Saeed Zns",
      "photoUrl": "https://lh3.googleusercontent.com/a-/AOh14GgKQKezT0cfLLvv4RmgAajwnRiO9e4WAtLaJ03qDw=s64",
      "userId": "13970882730426942657"
     },
     "user_tz": -60
    },
    "id": "O0BK3Q9LfuFC",
    "outputId": "029fb7f3-4a65-4474-808d-7146814de961"
   },
   "outputs": [
    {
     "name": "stdout",
     "output_type": "stream",
     "text": [
      "Epoch 1/20\n",
      "12500/12500 [==============================] - 116s 8ms/step - loss: 0.2078 - accuracy: 0.9251 - val_loss: 0.2438 - val_accuracy: 0.9035\n",
      "Epoch 2/20\n",
      "12500/12500 [==============================] - 105s 8ms/step - loss: 0.0845 - accuracy: 0.9707 - val_loss: 0.2075 - val_accuracy: 0.9335\n",
      "Epoch 3/20\n",
      "12500/12500 [==============================] - 133s 11ms/step - loss: 0.0578 - accuracy: 0.9813 - val_loss: 0.1573 - val_accuracy: 0.9565\n",
      "Epoch 4/20\n",
      "12500/12500 [==============================] - 120s 10ms/step - loss: 0.0447 - accuracy: 0.9857 - val_loss: 0.1407 - val_accuracy: 0.9636\n",
      "Epoch 5/20\n",
      "12500/12500 [==============================] - 97s 8ms/step - loss: 0.0379 - accuracy: 0.9881 - val_loss: 0.1240 - val_accuracy: 0.9727\n",
      "Epoch 6/20\n",
      "12500/12500 [==============================] - 97s 8ms/step - loss: 0.0320 - accuracy: 0.9898 - val_loss: 0.1704 - val_accuracy: 0.9616\n",
      "Epoch 7/20\n",
      "12500/12500 [==============================] - 97s 8ms/step - loss: 0.0266 - accuracy: 0.9914 - val_loss: 0.1882 - val_accuracy: 0.9619\n",
      "Epoch 8/20\n",
      "12500/12500 [==============================] - 97s 8ms/step - loss: 0.0262 - accuracy: 0.9921 - val_loss: 0.1466 - val_accuracy: 0.9749\n",
      "Epoch 9/20\n",
      "12500/12500 [==============================] - 96s 8ms/step - loss: 0.0232 - accuracy: 0.9931 - val_loss: 0.1662 - val_accuracy: 0.9674\n",
      "Epoch 10/20\n",
      "12500/12500 [==============================] - 97s 8ms/step - loss: 0.0201 - accuracy: 0.9938 - val_loss: 0.1652 - val_accuracy: 0.9723\n",
      "Epoch 11/20\n",
      "12500/12500 [==============================] - 97s 8ms/step - loss: 0.0204 - accuracy: 0.9938 - val_loss: 0.1470 - val_accuracy: 0.9785\n",
      "Epoch 12/20\n",
      "12500/12500 [==============================] - 96s 8ms/step - loss: 0.0183 - accuracy: 0.9946 - val_loss: 0.1772 - val_accuracy: 0.9722\n",
      "Epoch 13/20\n",
      "12500/12500 [==============================] - 97s 8ms/step - loss: 0.0173 - accuracy: 0.9950 - val_loss: 0.1941 - val_accuracy: 0.9752\n"
     ]
    }
   ],
   "source": [
    "from keras.layers import Dense, Convolution1D, MaxPool1D, Flatten, Dropout\n",
    "from keras.layers import Input\n",
    "from keras.models import Model\n",
    "from keras.layers import BatchNormalization\n",
    "import keras\n",
    "from keras.callbacks import EarlyStopping, ModelCheckpoint\n",
    "\n",
    "epoch,batch=[20,8]\n",
    "model,history=network(X_train,y_train,X_test,y_test)"
   ]
  },
  {
   "cell_type": "code",
   "execution_count": 15,
   "metadata": {
    "colab": {
     "base_uri": "https://localhost:8080/"
    },
    "executionInfo": {
     "elapsed": 3908,
     "status": "ok",
     "timestamp": 1640553695308,
     "user": {
      "displayName": "Saeed Zns",
      "photoUrl": "https://lh3.googleusercontent.com/a-/AOh14GgKQKezT0cfLLvv4RmgAajwnRiO9e4WAtLaJ03qDw=s64",
      "userId": "13970882730426942657"
     },
     "user_tz": -60
    },
    "id": "5WTD3i1HfuFC",
    "outputId": "0c149a1b-c422-43cf-caa4-681c363a7ccb"
   },
   "outputs": [
    {
     "data": {
      "text/plain": [
       "0.9727297425270081"
      ]
     },
     "execution_count": 15,
     "metadata": {},
     "output_type": "execute_result"
    }
   ],
   "source": [
    "model.evaluate((X_test),y_test, verbose=0)[1]"
   ]
  },
  {
   "cell_type": "markdown",
   "metadata": {
    "id": "bJLtbY8JfuFC"
   },
   "source": [
    "As you can see we achieve the 0.97272 accuracy.\n",
    "\n",
    ">\n",
    ">\n",
    "\n",
    "\n",
    "\n",
    "You can see a summary of our model below.\n"
   ]
  },
  {
   "cell_type": "code",
   "execution_count": 16,
   "metadata": {
    "colab": {
     "base_uri": "https://localhost:8080/"
    },
    "executionInfo": {
     "elapsed": 374,
     "status": "ok",
     "timestamp": 1640553724258,
     "user": {
      "displayName": "Saeed Zns",
      "photoUrl": "https://lh3.googleusercontent.com/a-/AOh14GgKQKezT0cfLLvv4RmgAajwnRiO9e4WAtLaJ03qDw=s64",
      "userId": "13970882730426942657"
     },
     "user_tz": -60
    },
    "id": "6zpqtDfvfuFC",
    "outputId": "5dc9bd89-e4a7-43f1-8b7e-511613e006f6"
   },
   "outputs": [
    {
     "name": "stdout",
     "output_type": "stream",
     "text": [
      "Model: \"model\"\n",
      "_________________________________________________________________\n",
      " Layer (type)                Output Shape              Param #   \n",
      "=================================================================\n",
      " inputs_cnn (InputLayer)     [(None, 186, 1)]          0         \n",
      "                                                                 \n",
      " conv1d (Conv1D)             (None, 181, 64)           448       \n",
      "                                                                 \n",
      " batch_normalization (BatchN  (None, 181, 64)          256       \n",
      " ormalization)                                                   \n",
      "                                                                 \n",
      " max_pooling1d (MaxPooling1D  (None, 91, 64)           0         \n",
      " )                                                               \n",
      "                                                                 \n",
      " conv1d_1 (Conv1D)           (None, 89, 64)            12352     \n",
      "                                                                 \n",
      " batch_normalization_1 (Batc  (None, 89, 64)           256       \n",
      " hNormalization)                                                 \n",
      "                                                                 \n",
      " max_pooling1d_1 (MaxPooling  (None, 45, 64)           0         \n",
      " 1D)                                                             \n",
      "                                                                 \n",
      " conv1d_2 (Conv1D)           (None, 43, 64)            12352     \n",
      "                                                                 \n",
      " batch_normalization_2 (Batc  (None, 43, 64)           256       \n",
      " hNormalization)                                                 \n",
      "                                                                 \n",
      " max_pooling1d_2 (MaxPooling  (None, 22, 64)           0         \n",
      " 1D)                                                             \n",
      "                                                                 \n",
      " flatten (Flatten)           (None, 1408)              0         \n",
      "                                                                 \n",
      " dense (Dense)               (None, 64)                90176     \n",
      "                                                                 \n",
      " dense_1 (Dense)             (None, 32)                2080      \n",
      "                                                                 \n",
      " main_output (Dense)         (None, 5)                 165       \n",
      "                                                                 \n",
      "=================================================================\n",
      "Total params: 118,341\n",
      "Trainable params: 117,957\n",
      "Non-trainable params: 384\n",
      "_________________________________________________________________\n"
     ]
    }
   ],
   "source": [
    "model.summary()"
   ]
  },
  {
   "cell_type": "code",
   "execution_count": 17,
   "metadata": {
    "colab": {
     "base_uri": "https://localhost:8080/"
    },
    "executionInfo": {
     "elapsed": 592717,
     "status": "ok",
     "timestamp": 1640554324203,
     "user": {
      "displayName": "Saeed Zns",
      "photoUrl": "https://lh3.googleusercontent.com/a-/AOh14GgKQKezT0cfLLvv4RmgAajwnRiO9e4WAtLaJ03qDw=s64",
      "userId": "13970882730426942657"
     },
     "user_tz": -60
    },
    "id": "Lndo2sIhi8QQ",
    "outputId": "0be7b87c-df05-4627-c51a-f8f184b590fe"
   },
   "outputs": [
    {
     "name": "stdout",
     "output_type": "stream",
     "text": [
      "Epoch 1/20\n",
      "6250/6250 [==============================] - 55s 9ms/step - loss: 0.1971 - accuracy: 0.9295 - val_loss: 0.2235 - val_accuracy: 0.9187\n",
      "Epoch 2/20\n",
      "6250/6250 [==============================] - 55s 9ms/step - loss: 0.0791 - accuracy: 0.9726 - val_loss: 0.1908 - val_accuracy: 0.9384\n",
      "Epoch 3/20\n",
      "6250/6250 [==============================] - 54s 9ms/step - loss: 0.0529 - accuracy: 0.9824 - val_loss: 0.1117 - val_accuracy: 0.9694\n",
      "Epoch 4/20\n",
      "6250/6250 [==============================] - 53s 9ms/step - loss: 0.0405 - accuracy: 0.9865 - val_loss: 0.1321 - val_accuracy: 0.9638\n",
      "Epoch 5/20\n",
      "6250/6250 [==============================] - 54s 9ms/step - loss: 0.0327 - accuracy: 0.9895 - val_loss: 0.2028 - val_accuracy: 0.9491\n",
      "Epoch 6/20\n",
      "6250/6250 [==============================] - 54s 9ms/step - loss: 0.0276 - accuracy: 0.9912 - val_loss: 0.1380 - val_accuracy: 0.9669\n",
      "Epoch 7/20\n",
      "6250/6250 [==============================] - 53s 9ms/step - loss: 0.0242 - accuracy: 0.9924 - val_loss: 0.1237 - val_accuracy: 0.9743\n",
      "Epoch 8/20\n",
      "6250/6250 [==============================] - 53s 9ms/step - loss: 0.0213 - accuracy: 0.9933 - val_loss: 0.1683 - val_accuracy: 0.9619\n",
      "Epoch 9/20\n",
      "6250/6250 [==============================] - 53s 9ms/step - loss: 0.0188 - accuracy: 0.9940 - val_loss: 0.1851 - val_accuracy: 0.9628\n",
      "Epoch 10/20\n",
      "6250/6250 [==============================] - 53s 9ms/step - loss: 0.0169 - accuracy: 0.9946 - val_loss: 0.1203 - val_accuracy: 0.9802\n",
      "Epoch 11/20\n",
      "6250/6250 [==============================] - 54s 9ms/step - loss: 0.0164 - accuracy: 0.9947 - val_loss: 0.2014 - val_accuracy: 0.9650\n"
     ]
    }
   ],
   "source": [
    "from keras.layers import Dense, Convolution1D, MaxPool1D, Flatten, Dropout\n",
    "from keras.layers import Input\n",
    "from keras.models import Model\n",
    "from keras.layers import BatchNormalization\n",
    "import keras\n",
    "from keras.callbacks import EarlyStopping, ModelCheckpoint\n",
    "\n",
    "epoch,batch=[20,16]\n",
    "model,history=network(X_train,y_train,X_test,y_test)"
   ]
  },
  {
   "cell_type": "code",
   "execution_count": 18,
   "metadata": {
    "colab": {
     "base_uri": "https://localhost:8080/"
    },
    "executionInfo": {
     "elapsed": 36456,
     "status": "ok",
     "timestamp": 1640554360652,
     "user": {
      "displayName": "Saeed Zns",
      "photoUrl": "https://lh3.googleusercontent.com/a-/AOh14GgKQKezT0cfLLvv4RmgAajwnRiO9e4WAtLaJ03qDw=s64",
      "userId": "13970882730426942657"
     },
     "user_tz": -60
    },
    "id": "iCgdJNQ4jBmr",
    "outputId": "71894ab9-86e0-456d-da39-eda36c9ca846"
   },
   "outputs": [
    {
     "data": {
      "text/plain": [
       "0.9694408774375916"
      ]
     },
     "execution_count": 18,
     "metadata": {},
     "output_type": "execute_result"
    }
   ],
   "source": [
    "model.evaluate((X_test),y_test, verbose=0)[1]"
   ]
  },
  {
   "cell_type": "markdown",
   "metadata": {
    "id": "Z2n9CT8FkFtQ"
   },
   "source": [
    "As you can see we achieve the 0.96944 accuracy.\n",
    "\n",
    ">\n",
    ">\n",
    "\n",
    "\n",
    "\n",
    "You can see a summary of our model below."
   ]
  },
  {
   "cell_type": "code",
   "execution_count": 19,
   "metadata": {
    "colab": {
     "base_uri": "https://localhost:8080/"
    },
    "executionInfo": {
     "elapsed": 20,
     "status": "ok",
     "timestamp": 1640554360653,
     "user": {
      "displayName": "Saeed Zns",
      "photoUrl": "https://lh3.googleusercontent.com/a-/AOh14GgKQKezT0cfLLvv4RmgAajwnRiO9e4WAtLaJ03qDw=s64",
      "userId": "13970882730426942657"
     },
     "user_tz": -60
    },
    "id": "SWEuy9VKjeTP",
    "outputId": "53767e3a-f9f4-4186-e05e-defd0aa2face"
   },
   "outputs": [
    {
     "name": "stdout",
     "output_type": "stream",
     "text": [
      "Model: \"model_1\"\n",
      "_________________________________________________________________\n",
      " Layer (type)                Output Shape              Param #   \n",
      "=================================================================\n",
      " inputs_cnn (InputLayer)     [(None, 186, 1)]          0         \n",
      "                                                                 \n",
      " conv1d_3 (Conv1D)           (None, 181, 64)           448       \n",
      "                                                                 \n",
      " batch_normalization_3 (Batc  (None, 181, 64)          256       \n",
      " hNormalization)                                                 \n",
      "                                                                 \n",
      " max_pooling1d_3 (MaxPooling  (None, 91, 64)           0         \n",
      " 1D)                                                             \n",
      "                                                                 \n",
      " conv1d_4 (Conv1D)           (None, 89, 64)            12352     \n",
      "                                                                 \n",
      " batch_normalization_4 (Batc  (None, 89, 64)           256       \n",
      " hNormalization)                                                 \n",
      "                                                                 \n",
      " max_pooling1d_4 (MaxPooling  (None, 45, 64)           0         \n",
      " 1D)                                                             \n",
      "                                                                 \n",
      " conv1d_5 (Conv1D)           (None, 43, 64)            12352     \n",
      "                                                                 \n",
      " batch_normalization_5 (Batc  (None, 43, 64)           256       \n",
      " hNormalization)                                                 \n",
      "                                                                 \n",
      " max_pooling1d_5 (MaxPooling  (None, 22, 64)           0         \n",
      " 1D)                                                             \n",
      "                                                                 \n",
      " flatten_1 (Flatten)         (None, 1408)              0         \n",
      "                                                                 \n",
      " dense_2 (Dense)             (None, 64)                90176     \n",
      "                                                                 \n",
      " dense_3 (Dense)             (None, 32)                2080      \n",
      "                                                                 \n",
      " main_output (Dense)         (None, 5)                 165       \n",
      "                                                                 \n",
      "=================================================================\n",
      "Total params: 118,341\n",
      "Trainable params: 117,957\n",
      "Non-trainable params: 384\n",
      "_________________________________________________________________\n"
     ]
    }
   ],
   "source": [
    "model.summary()"
   ]
  },
  {
   "cell_type": "code",
   "execution_count": 20,
   "metadata": {
    "colab": {
     "base_uri": "https://localhost:8080/"
    },
    "executionInfo": {
     "elapsed": 468736,
     "status": "ok",
     "timestamp": 1640554829382,
     "user": {
      "displayName": "Saeed Zns",
      "photoUrl": "https://lh3.googleusercontent.com/a-/AOh14GgKQKezT0cfLLvv4RmgAajwnRiO9e4WAtLaJ03qDw=s64",
      "userId": "13970882730426942657"
     },
     "user_tz": -60
    },
    "id": "RP784yjQjeus",
    "outputId": "ab1dbfe6-c9d1-4f58-dd2b-6b62ee365905"
   },
   "outputs": [
    {
     "name": "stdout",
     "output_type": "stream",
     "text": [
      "Epoch 1/20\n",
      "3125/3125 [==============================] - 34s 10ms/step - loss: 0.1925 - accuracy: 0.9305 - val_loss: 0.2101 - val_accuracy: 0.9270\n",
      "Epoch 2/20\n",
      "3125/3125 [==============================] - 35s 11ms/step - loss: 0.0729 - accuracy: 0.9753 - val_loss: 0.1315 - val_accuracy: 0.9636\n",
      "Epoch 3/20\n",
      "3125/3125 [==============================] - 32s 10ms/step - loss: 0.0501 - accuracy: 0.9833 - val_loss: 0.1302 - val_accuracy: 0.9640\n",
      "Epoch 4/20\n",
      "3125/3125 [==============================] - 34s 11ms/step - loss: 0.0370 - accuracy: 0.9880 - val_loss: 0.2288 - val_accuracy: 0.9378\n",
      "Epoch 5/20\n",
      "3125/3125 [==============================] - 32s 10ms/step - loss: 0.0294 - accuracy: 0.9903 - val_loss: 0.1619 - val_accuracy: 0.9596\n",
      "Epoch 6/20\n",
      "3125/3125 [==============================] - 35s 11ms/step - loss: 0.0255 - accuracy: 0.9919 - val_loss: 0.1200 - val_accuracy: 0.9737\n",
      "Epoch 7/20\n",
      "3125/3125 [==============================] - 34s 11ms/step - loss: 0.0198 - accuracy: 0.9938 - val_loss: 0.1434 - val_accuracy: 0.9687\n",
      "Epoch 8/20\n",
      "3125/3125 [==============================] - 32s 10ms/step - loss: 0.0194 - accuracy: 0.9939 - val_loss: 0.1447 - val_accuracy: 0.9699\n",
      "Epoch 9/20\n",
      "3125/3125 [==============================] - 32s 10ms/step - loss: 0.0172 - accuracy: 0.9949 - val_loss: 0.1233 - val_accuracy: 0.9750\n",
      "Epoch 10/20\n",
      "3125/3125 [==============================] - 32s 10ms/step - loss: 0.0142 - accuracy: 0.9956 - val_loss: 0.1365 - val_accuracy: 0.9726\n",
      "Epoch 11/20\n",
      "3125/3125 [==============================] - 34s 11ms/step - loss: 0.0142 - accuracy: 0.9955 - val_loss: 0.1383 - val_accuracy: 0.9763\n",
      "Epoch 12/20\n",
      "3125/3125 [==============================] - 34s 11ms/step - loss: 0.0132 - accuracy: 0.9959 - val_loss: 0.1693 - val_accuracy: 0.9673\n",
      "Epoch 13/20\n",
      "3125/3125 [==============================] - 32s 10ms/step - loss: 0.0115 - accuracy: 0.9964 - val_loss: 0.2035 - val_accuracy: 0.9656\n",
      "Epoch 14/20\n",
      "3125/3125 [==============================] - 34s 11ms/step - loss: 0.0101 - accuracy: 0.9971 - val_loss: 0.1537 - val_accuracy: 0.9740\n"
     ]
    }
   ],
   "source": [
    "from keras.layers import Dense, Convolution1D, MaxPool1D, Flatten, Dropout\n",
    "from keras.layers import Input\n",
    "from keras.models import Model\n",
    "from keras.layers import BatchNormalization\n",
    "import keras\n",
    "from keras.callbacks import EarlyStopping, ModelCheckpoint\n",
    "\n",
    "epoch,batch=[20,32]\n",
    "model,history=network(X_train,y_train,X_test,y_test)"
   ]
  },
  {
   "cell_type": "code",
   "execution_count": 21,
   "metadata": {
    "colab": {
     "base_uri": "https://localhost:8080/"
    },
    "executionInfo": {
     "elapsed": 39818,
     "status": "ok",
     "timestamp": 1640554869189,
     "user": {
      "displayName": "Saeed Zns",
      "photoUrl": "https://lh3.googleusercontent.com/a-/AOh14GgKQKezT0cfLLvv4RmgAajwnRiO9e4WAtLaJ03qDw=s64",
      "userId": "13970882730426942657"
     },
     "user_tz": -60
    },
    "id": "ZT-WDU2ejexl",
    "outputId": "7457d8b7-a808-4d65-ace7-c6b7b26dd22b"
   },
   "outputs": [
    {
     "data": {
      "text/plain": [
       "0.9736890196800232"
      ]
     },
     "execution_count": 21,
     "metadata": {},
     "output_type": "execute_result"
    }
   ],
   "source": [
    "model.evaluate((X_test),y_test, verbose=0)[1]"
   ]
  },
  {
   "cell_type": "markdown",
   "metadata": {
    "id": "_Y9Wra2Fj5m5"
   },
   "source": [
    "As you can see we achieve the 0.97368 accuracy.\n",
    "\n",
    ">\n",
    ">\n",
    "\n",
    "\n",
    "\n",
    "You can see a summary of our model below."
   ]
  },
  {
   "cell_type": "code",
   "execution_count": 22,
   "metadata": {
    "colab": {
     "base_uri": "https://localhost:8080/"
    },
    "executionInfo": {
     "elapsed": 31,
     "status": "ok",
     "timestamp": 1640554869190,
     "user": {
      "displayName": "Saeed Zns",
      "photoUrl": "https://lh3.googleusercontent.com/a-/AOh14GgKQKezT0cfLLvv4RmgAajwnRiO9e4WAtLaJ03qDw=s64",
      "userId": "13970882730426942657"
     },
     "user_tz": -60
    },
    "id": "G8CR15Jeje_6",
    "outputId": "7e4dd676-e129-4326-c379-6a106ce5d477"
   },
   "outputs": [
    {
     "name": "stdout",
     "output_type": "stream",
     "text": [
      "Model: \"model_2\"\n",
      "_________________________________________________________________\n",
      " Layer (type)                Output Shape              Param #   \n",
      "=================================================================\n",
      " inputs_cnn (InputLayer)     [(None, 186, 1)]          0         \n",
      "                                                                 \n",
      " conv1d_6 (Conv1D)           (None, 181, 64)           448       \n",
      "                                                                 \n",
      " batch_normalization_6 (Batc  (None, 181, 64)          256       \n",
      " hNormalization)                                                 \n",
      "                                                                 \n",
      " max_pooling1d_6 (MaxPooling  (None, 91, 64)           0         \n",
      " 1D)                                                             \n",
      "                                                                 \n",
      " conv1d_7 (Conv1D)           (None, 89, 64)            12352     \n",
      "                                                                 \n",
      " batch_normalization_7 (Batc  (None, 89, 64)           256       \n",
      " hNormalization)                                                 \n",
      "                                                                 \n",
      " max_pooling1d_7 (MaxPooling  (None, 45, 64)           0         \n",
      " 1D)                                                             \n",
      "                                                                 \n",
      " conv1d_8 (Conv1D)           (None, 43, 64)            12352     \n",
      "                                                                 \n",
      " batch_normalization_8 (Batc  (None, 43, 64)           256       \n",
      " hNormalization)                                                 \n",
      "                                                                 \n",
      " max_pooling1d_8 (MaxPooling  (None, 22, 64)           0         \n",
      " 1D)                                                             \n",
      "                                                                 \n",
      " flatten_2 (Flatten)         (None, 1408)              0         \n",
      "                                                                 \n",
      " dense_4 (Dense)             (None, 64)                90176     \n",
      "                                                                 \n",
      " dense_5 (Dense)             (None, 32)                2080      \n",
      "                                                                 \n",
      " main_output (Dense)         (None, 5)                 165       \n",
      "                                                                 \n",
      "=================================================================\n",
      "Total params: 118,341\n",
      "Trainable params: 117,957\n",
      "Non-trainable params: 384\n",
      "_________________________________________________________________\n"
     ]
    }
   ],
   "source": [
    "model.summary()"
   ]
  }
 ],
 "metadata": {
  "accelerator": "GPU",
  "colab": {
   "collapsed_sections": [
    "z3JbDnlRfuEu"
   ],
   "name": "FDS_Project_final.ipynb",
   "provenance": []
  },
  "kernelspec": {
   "display_name": "Python 3 (ipykernel)",
   "language": "python",
   "name": "python3"
  },
  "language_info": {
   "codemirror_mode": {
    "name": "ipython",
    "version": 3
   },
   "file_extension": ".py",
   "mimetype": "text/x-python",
   "name": "python",
   "nbconvert_exporter": "python",
   "pygments_lexer": "ipython3",
   "version": "3.9.6"
  }
 },
 "nbformat": 4,
 "nbformat_minor": 1
}
